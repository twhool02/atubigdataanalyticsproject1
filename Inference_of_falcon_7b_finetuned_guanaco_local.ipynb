{
  "nbformat": 4,
  "nbformat_minor": 0,
  "metadata": {
    "colab": {
      "provenance": [],
      "machine_shape": "hm",
      "gpuType": "T4",
      "toc_visible": true,
      "authorship_tag": "ABX9TyP/eUFTvJDg8IV86nOnybuh",
      "include_colab_link": true
    },
    "kernelspec": {
      "name": "python3",
      "display_name": "Python 3"
    },
    "language_info": {
      "name": "python"
    },
    "widgets": {
      "application/vnd.jupyter.widget-state+json": {
        "9cd8383d2fc04d738553697b34828499": {
          "model_module": "@jupyter-widgets/controls",
          "model_name": "HBoxModel",
          "model_module_version": "1.5.0",
          "state": {
            "_dom_classes": [],
            "_model_module": "@jupyter-widgets/controls",
            "_model_module_version": "1.5.0",
            "_model_name": "HBoxModel",
            "_view_count": null,
            "_view_module": "@jupyter-widgets/controls",
            "_view_module_version": "1.5.0",
            "_view_name": "HBoxView",
            "box_style": "",
            "children": [
              "IPY_MODEL_1e76be263dfb41e7a9a9a11594dd695d",
              "IPY_MODEL_0148dc0cf5384808a88f2d028cec1de3",
              "IPY_MODEL_782436bf67ac492096150e62111e52d9"
            ],
            "layout": "IPY_MODEL_e4157d2e2e5a42c28ac8354b405c204b"
          }
        },
        "1e76be263dfb41e7a9a9a11594dd695d": {
          "model_module": "@jupyter-widgets/controls",
          "model_name": "HTMLModel",
          "model_module_version": "1.5.0",
          "state": {
            "_dom_classes": [],
            "_model_module": "@jupyter-widgets/controls",
            "_model_module_version": "1.5.0",
            "_model_name": "HTMLModel",
            "_view_count": null,
            "_view_module": "@jupyter-widgets/controls",
            "_view_module_version": "1.5.0",
            "_view_name": "HTMLView",
            "description": "",
            "description_tooltip": null,
            "layout": "IPY_MODEL_ed24d391bb45451cb5fef59953e66b43",
            "placeholder": "​",
            "style": "IPY_MODEL_3f458f6b92754eec8c0481ebc39404ad",
            "value": "Loading checkpoint shards: 100%"
          }
        },
        "0148dc0cf5384808a88f2d028cec1de3": {
          "model_module": "@jupyter-widgets/controls",
          "model_name": "FloatProgressModel",
          "model_module_version": "1.5.0",
          "state": {
            "_dom_classes": [],
            "_model_module": "@jupyter-widgets/controls",
            "_model_module_version": "1.5.0",
            "_model_name": "FloatProgressModel",
            "_view_count": null,
            "_view_module": "@jupyter-widgets/controls",
            "_view_module_version": "1.5.0",
            "_view_name": "ProgressView",
            "bar_style": "success",
            "description": "",
            "description_tooltip": null,
            "layout": "IPY_MODEL_3fcfc28d463d42f9bd6491d3af4cad87",
            "max": 3,
            "min": 0,
            "orientation": "horizontal",
            "style": "IPY_MODEL_5f2d9cf2956449f798b941be1722afc1",
            "value": 3
          }
        },
        "782436bf67ac492096150e62111e52d9": {
          "model_module": "@jupyter-widgets/controls",
          "model_name": "HTMLModel",
          "model_module_version": "1.5.0",
          "state": {
            "_dom_classes": [],
            "_model_module": "@jupyter-widgets/controls",
            "_model_module_version": "1.5.0",
            "_model_name": "HTMLModel",
            "_view_count": null,
            "_view_module": "@jupyter-widgets/controls",
            "_view_module_version": "1.5.0",
            "_view_name": "HTMLView",
            "description": "",
            "description_tooltip": null,
            "layout": "IPY_MODEL_c3b538845bd64974bcca61b6439ef596",
            "placeholder": "​",
            "style": "IPY_MODEL_152a7e6c97164b758d503999d6e4530d",
            "value": " 3/3 [01:26&lt;00:00, 26.83s/it]"
          }
        },
        "e4157d2e2e5a42c28ac8354b405c204b": {
          "model_module": "@jupyter-widgets/base",
          "model_name": "LayoutModel",
          "model_module_version": "1.2.0",
          "state": {
            "_model_module": "@jupyter-widgets/base",
            "_model_module_version": "1.2.0",
            "_model_name": "LayoutModel",
            "_view_count": null,
            "_view_module": "@jupyter-widgets/base",
            "_view_module_version": "1.2.0",
            "_view_name": "LayoutView",
            "align_content": null,
            "align_items": null,
            "align_self": null,
            "border": null,
            "bottom": null,
            "display": null,
            "flex": null,
            "flex_flow": null,
            "grid_area": null,
            "grid_auto_columns": null,
            "grid_auto_flow": null,
            "grid_auto_rows": null,
            "grid_column": null,
            "grid_gap": null,
            "grid_row": null,
            "grid_template_areas": null,
            "grid_template_columns": null,
            "grid_template_rows": null,
            "height": null,
            "justify_content": null,
            "justify_items": null,
            "left": null,
            "margin": null,
            "max_height": null,
            "max_width": null,
            "min_height": null,
            "min_width": null,
            "object_fit": null,
            "object_position": null,
            "order": null,
            "overflow": null,
            "overflow_x": null,
            "overflow_y": null,
            "padding": null,
            "right": null,
            "top": null,
            "visibility": null,
            "width": null
          }
        },
        "ed24d391bb45451cb5fef59953e66b43": {
          "model_module": "@jupyter-widgets/base",
          "model_name": "LayoutModel",
          "model_module_version": "1.2.0",
          "state": {
            "_model_module": "@jupyter-widgets/base",
            "_model_module_version": "1.2.0",
            "_model_name": "LayoutModel",
            "_view_count": null,
            "_view_module": "@jupyter-widgets/base",
            "_view_module_version": "1.2.0",
            "_view_name": "LayoutView",
            "align_content": null,
            "align_items": null,
            "align_self": null,
            "border": null,
            "bottom": null,
            "display": null,
            "flex": null,
            "flex_flow": null,
            "grid_area": null,
            "grid_auto_columns": null,
            "grid_auto_flow": null,
            "grid_auto_rows": null,
            "grid_column": null,
            "grid_gap": null,
            "grid_row": null,
            "grid_template_areas": null,
            "grid_template_columns": null,
            "grid_template_rows": null,
            "height": null,
            "justify_content": null,
            "justify_items": null,
            "left": null,
            "margin": null,
            "max_height": null,
            "max_width": null,
            "min_height": null,
            "min_width": null,
            "object_fit": null,
            "object_position": null,
            "order": null,
            "overflow": null,
            "overflow_x": null,
            "overflow_y": null,
            "padding": null,
            "right": null,
            "top": null,
            "visibility": null,
            "width": null
          }
        },
        "3f458f6b92754eec8c0481ebc39404ad": {
          "model_module": "@jupyter-widgets/controls",
          "model_name": "DescriptionStyleModel",
          "model_module_version": "1.5.0",
          "state": {
            "_model_module": "@jupyter-widgets/controls",
            "_model_module_version": "1.5.0",
            "_model_name": "DescriptionStyleModel",
            "_view_count": null,
            "_view_module": "@jupyter-widgets/base",
            "_view_module_version": "1.2.0",
            "_view_name": "StyleView",
            "description_width": ""
          }
        },
        "3fcfc28d463d42f9bd6491d3af4cad87": {
          "model_module": "@jupyter-widgets/base",
          "model_name": "LayoutModel",
          "model_module_version": "1.2.0",
          "state": {
            "_model_module": "@jupyter-widgets/base",
            "_model_module_version": "1.2.0",
            "_model_name": "LayoutModel",
            "_view_count": null,
            "_view_module": "@jupyter-widgets/base",
            "_view_module_version": "1.2.0",
            "_view_name": "LayoutView",
            "align_content": null,
            "align_items": null,
            "align_self": null,
            "border": null,
            "bottom": null,
            "display": null,
            "flex": null,
            "flex_flow": null,
            "grid_area": null,
            "grid_auto_columns": null,
            "grid_auto_flow": null,
            "grid_auto_rows": null,
            "grid_column": null,
            "grid_gap": null,
            "grid_row": null,
            "grid_template_areas": null,
            "grid_template_columns": null,
            "grid_template_rows": null,
            "height": null,
            "justify_content": null,
            "justify_items": null,
            "left": null,
            "margin": null,
            "max_height": null,
            "max_width": null,
            "min_height": null,
            "min_width": null,
            "object_fit": null,
            "object_position": null,
            "order": null,
            "overflow": null,
            "overflow_x": null,
            "overflow_y": null,
            "padding": null,
            "right": null,
            "top": null,
            "visibility": null,
            "width": null
          }
        },
        "5f2d9cf2956449f798b941be1722afc1": {
          "model_module": "@jupyter-widgets/controls",
          "model_name": "ProgressStyleModel",
          "model_module_version": "1.5.0",
          "state": {
            "_model_module": "@jupyter-widgets/controls",
            "_model_module_version": "1.5.0",
            "_model_name": "ProgressStyleModel",
            "_view_count": null,
            "_view_module": "@jupyter-widgets/base",
            "_view_module_version": "1.2.0",
            "_view_name": "StyleView",
            "bar_color": null,
            "description_width": ""
          }
        },
        "c3b538845bd64974bcca61b6439ef596": {
          "model_module": "@jupyter-widgets/base",
          "model_name": "LayoutModel",
          "model_module_version": "1.2.0",
          "state": {
            "_model_module": "@jupyter-widgets/base",
            "_model_module_version": "1.2.0",
            "_model_name": "LayoutModel",
            "_view_count": null,
            "_view_module": "@jupyter-widgets/base",
            "_view_module_version": "1.2.0",
            "_view_name": "LayoutView",
            "align_content": null,
            "align_items": null,
            "align_self": null,
            "border": null,
            "bottom": null,
            "display": null,
            "flex": null,
            "flex_flow": null,
            "grid_area": null,
            "grid_auto_columns": null,
            "grid_auto_flow": null,
            "grid_auto_rows": null,
            "grid_column": null,
            "grid_gap": null,
            "grid_row": null,
            "grid_template_areas": null,
            "grid_template_columns": null,
            "grid_template_rows": null,
            "height": null,
            "justify_content": null,
            "justify_items": null,
            "left": null,
            "margin": null,
            "max_height": null,
            "max_width": null,
            "min_height": null,
            "min_width": null,
            "object_fit": null,
            "object_position": null,
            "order": null,
            "overflow": null,
            "overflow_x": null,
            "overflow_y": null,
            "padding": null,
            "right": null,
            "top": null,
            "visibility": null,
            "width": null
          }
        },
        "152a7e6c97164b758d503999d6e4530d": {
          "model_module": "@jupyter-widgets/controls",
          "model_name": "DescriptionStyleModel",
          "model_module_version": "1.5.0",
          "state": {
            "_model_module": "@jupyter-widgets/controls",
            "_model_module_version": "1.5.0",
            "_model_name": "DescriptionStyleModel",
            "_view_count": null,
            "_view_module": "@jupyter-widgets/base",
            "_view_module_version": "1.2.0",
            "_view_name": "StyleView",
            "description_width": ""
          }
        },
        "5228729ca9ec4686a8bc09c6919e05e9": {
          "model_module": "@jupyter-widgets/controls",
          "model_name": "HBoxModel",
          "model_module_version": "1.5.0",
          "state": {
            "_dom_classes": [],
            "_model_module": "@jupyter-widgets/controls",
            "_model_module_version": "1.5.0",
            "_model_name": "HBoxModel",
            "_view_count": null,
            "_view_module": "@jupyter-widgets/controls",
            "_view_module_version": "1.5.0",
            "_view_name": "HBoxView",
            "box_style": "",
            "children": [
              "IPY_MODEL_88bb3835f50045488f8243bb00be0799",
              "IPY_MODEL_311179512d614f6d813d6e66c957d4a5",
              "IPY_MODEL_e7f1a2cb89604579bbc5cc468cdf51d8"
            ],
            "layout": "IPY_MODEL_f2694e8015904c0fa0c7194db63b8238"
          }
        },
        "88bb3835f50045488f8243bb00be0799": {
          "model_module": "@jupyter-widgets/controls",
          "model_name": "HTMLModel",
          "model_module_version": "1.5.0",
          "state": {
            "_dom_classes": [],
            "_model_module": "@jupyter-widgets/controls",
            "_model_module_version": "1.5.0",
            "_model_name": "HTMLModel",
            "_view_count": null,
            "_view_module": "@jupyter-widgets/controls",
            "_view_module_version": "1.5.0",
            "_view_name": "HTMLView",
            "description": "",
            "description_tooltip": null,
            "layout": "IPY_MODEL_fdb6a7e8d46a4dc0a1968cdcfe29c6d8",
            "placeholder": "​",
            "style": "IPY_MODEL_dbffa32aadfc497f9fc389fd72f7450c",
            "value": "Downloading readme: 100%"
          }
        },
        "311179512d614f6d813d6e66c957d4a5": {
          "model_module": "@jupyter-widgets/controls",
          "model_name": "FloatProgressModel",
          "model_module_version": "1.5.0",
          "state": {
            "_dom_classes": [],
            "_model_module": "@jupyter-widgets/controls",
            "_model_module_version": "1.5.0",
            "_model_name": "FloatProgressModel",
            "_view_count": null,
            "_view_module": "@jupyter-widgets/controls",
            "_view_module_version": "1.5.0",
            "_view_name": "ProgressView",
            "bar_style": "success",
            "description": "",
            "description_tooltip": null,
            "layout": "IPY_MODEL_96eb8be62c054701949d1143a6b02e4f",
            "max": 395,
            "min": 0,
            "orientation": "horizontal",
            "style": "IPY_MODEL_6bee1f93305644d08bd086d6107913ec",
            "value": 395
          }
        },
        "e7f1a2cb89604579bbc5cc468cdf51d8": {
          "model_module": "@jupyter-widgets/controls",
          "model_name": "HTMLModel",
          "model_module_version": "1.5.0",
          "state": {
            "_dom_classes": [],
            "_model_module": "@jupyter-widgets/controls",
            "_model_module_version": "1.5.0",
            "_model_name": "HTMLModel",
            "_view_count": null,
            "_view_module": "@jupyter-widgets/controls",
            "_view_module_version": "1.5.0",
            "_view_name": "HTMLView",
            "description": "",
            "description_tooltip": null,
            "layout": "IPY_MODEL_878f75ccc96b410f8fc8bd4e28e505d1",
            "placeholder": "​",
            "style": "IPY_MODEL_9d5519aca3c24b2ba2638ae66c124929",
            "value": " 395/395 [00:00&lt;00:00, 37.8kB/s]"
          }
        },
        "f2694e8015904c0fa0c7194db63b8238": {
          "model_module": "@jupyter-widgets/base",
          "model_name": "LayoutModel",
          "model_module_version": "1.2.0",
          "state": {
            "_model_module": "@jupyter-widgets/base",
            "_model_module_version": "1.2.0",
            "_model_name": "LayoutModel",
            "_view_count": null,
            "_view_module": "@jupyter-widgets/base",
            "_view_module_version": "1.2.0",
            "_view_name": "LayoutView",
            "align_content": null,
            "align_items": null,
            "align_self": null,
            "border": null,
            "bottom": null,
            "display": null,
            "flex": null,
            "flex_flow": null,
            "grid_area": null,
            "grid_auto_columns": null,
            "grid_auto_flow": null,
            "grid_auto_rows": null,
            "grid_column": null,
            "grid_gap": null,
            "grid_row": null,
            "grid_template_areas": null,
            "grid_template_columns": null,
            "grid_template_rows": null,
            "height": null,
            "justify_content": null,
            "justify_items": null,
            "left": null,
            "margin": null,
            "max_height": null,
            "max_width": null,
            "min_height": null,
            "min_width": null,
            "object_fit": null,
            "object_position": null,
            "order": null,
            "overflow": null,
            "overflow_x": null,
            "overflow_y": null,
            "padding": null,
            "right": null,
            "top": null,
            "visibility": null,
            "width": null
          }
        },
        "fdb6a7e8d46a4dc0a1968cdcfe29c6d8": {
          "model_module": "@jupyter-widgets/base",
          "model_name": "LayoutModel",
          "model_module_version": "1.2.0",
          "state": {
            "_model_module": "@jupyter-widgets/base",
            "_model_module_version": "1.2.0",
            "_model_name": "LayoutModel",
            "_view_count": null,
            "_view_module": "@jupyter-widgets/base",
            "_view_module_version": "1.2.0",
            "_view_name": "LayoutView",
            "align_content": null,
            "align_items": null,
            "align_self": null,
            "border": null,
            "bottom": null,
            "display": null,
            "flex": null,
            "flex_flow": null,
            "grid_area": null,
            "grid_auto_columns": null,
            "grid_auto_flow": null,
            "grid_auto_rows": null,
            "grid_column": null,
            "grid_gap": null,
            "grid_row": null,
            "grid_template_areas": null,
            "grid_template_columns": null,
            "grid_template_rows": null,
            "height": null,
            "justify_content": null,
            "justify_items": null,
            "left": null,
            "margin": null,
            "max_height": null,
            "max_width": null,
            "min_height": null,
            "min_width": null,
            "object_fit": null,
            "object_position": null,
            "order": null,
            "overflow": null,
            "overflow_x": null,
            "overflow_y": null,
            "padding": null,
            "right": null,
            "top": null,
            "visibility": null,
            "width": null
          }
        },
        "dbffa32aadfc497f9fc389fd72f7450c": {
          "model_module": "@jupyter-widgets/controls",
          "model_name": "DescriptionStyleModel",
          "model_module_version": "1.5.0",
          "state": {
            "_model_module": "@jupyter-widgets/controls",
            "_model_module_version": "1.5.0",
            "_model_name": "DescriptionStyleModel",
            "_view_count": null,
            "_view_module": "@jupyter-widgets/base",
            "_view_module_version": "1.2.0",
            "_view_name": "StyleView",
            "description_width": ""
          }
        },
        "96eb8be62c054701949d1143a6b02e4f": {
          "model_module": "@jupyter-widgets/base",
          "model_name": "LayoutModel",
          "model_module_version": "1.2.0",
          "state": {
            "_model_module": "@jupyter-widgets/base",
            "_model_module_version": "1.2.0",
            "_model_name": "LayoutModel",
            "_view_count": null,
            "_view_module": "@jupyter-widgets/base",
            "_view_module_version": "1.2.0",
            "_view_name": "LayoutView",
            "align_content": null,
            "align_items": null,
            "align_self": null,
            "border": null,
            "bottom": null,
            "display": null,
            "flex": null,
            "flex_flow": null,
            "grid_area": null,
            "grid_auto_columns": null,
            "grid_auto_flow": null,
            "grid_auto_rows": null,
            "grid_column": null,
            "grid_gap": null,
            "grid_row": null,
            "grid_template_areas": null,
            "grid_template_columns": null,
            "grid_template_rows": null,
            "height": null,
            "justify_content": null,
            "justify_items": null,
            "left": null,
            "margin": null,
            "max_height": null,
            "max_width": null,
            "min_height": null,
            "min_width": null,
            "object_fit": null,
            "object_position": null,
            "order": null,
            "overflow": null,
            "overflow_x": null,
            "overflow_y": null,
            "padding": null,
            "right": null,
            "top": null,
            "visibility": null,
            "width": null
          }
        },
        "6bee1f93305644d08bd086d6107913ec": {
          "model_module": "@jupyter-widgets/controls",
          "model_name": "ProgressStyleModel",
          "model_module_version": "1.5.0",
          "state": {
            "_model_module": "@jupyter-widgets/controls",
            "_model_module_version": "1.5.0",
            "_model_name": "ProgressStyleModel",
            "_view_count": null,
            "_view_module": "@jupyter-widgets/base",
            "_view_module_version": "1.2.0",
            "_view_name": "StyleView",
            "bar_color": null,
            "description_width": ""
          }
        },
        "878f75ccc96b410f8fc8bd4e28e505d1": {
          "model_module": "@jupyter-widgets/base",
          "model_name": "LayoutModel",
          "model_module_version": "1.2.0",
          "state": {
            "_model_module": "@jupyter-widgets/base",
            "_model_module_version": "1.2.0",
            "_model_name": "LayoutModel",
            "_view_count": null,
            "_view_module": "@jupyter-widgets/base",
            "_view_module_version": "1.2.0",
            "_view_name": "LayoutView",
            "align_content": null,
            "align_items": null,
            "align_self": null,
            "border": null,
            "bottom": null,
            "display": null,
            "flex": null,
            "flex_flow": null,
            "grid_area": null,
            "grid_auto_columns": null,
            "grid_auto_flow": null,
            "grid_auto_rows": null,
            "grid_column": null,
            "grid_gap": null,
            "grid_row": null,
            "grid_template_areas": null,
            "grid_template_columns": null,
            "grid_template_rows": null,
            "height": null,
            "justify_content": null,
            "justify_items": null,
            "left": null,
            "margin": null,
            "max_height": null,
            "max_width": null,
            "min_height": null,
            "min_width": null,
            "object_fit": null,
            "object_position": null,
            "order": null,
            "overflow": null,
            "overflow_x": null,
            "overflow_y": null,
            "padding": null,
            "right": null,
            "top": null,
            "visibility": null,
            "width": null
          }
        },
        "9d5519aca3c24b2ba2638ae66c124929": {
          "model_module": "@jupyter-widgets/controls",
          "model_name": "DescriptionStyleModel",
          "model_module_version": "1.5.0",
          "state": {
            "_model_module": "@jupyter-widgets/controls",
            "_model_module_version": "1.5.0",
            "_model_name": "DescriptionStyleModel",
            "_view_count": null,
            "_view_module": "@jupyter-widgets/base",
            "_view_module_version": "1.2.0",
            "_view_name": "StyleView",
            "description_width": ""
          }
        },
        "81825b33593a49f9beacad50d1b809b4": {
          "model_module": "@jupyter-widgets/controls",
          "model_name": "HBoxModel",
          "model_module_version": "1.5.0",
          "state": {
            "_dom_classes": [],
            "_model_module": "@jupyter-widgets/controls",
            "_model_module_version": "1.5.0",
            "_model_name": "HBoxModel",
            "_view_count": null,
            "_view_module": "@jupyter-widgets/controls",
            "_view_module_version": "1.5.0",
            "_view_name": "HBoxView",
            "box_style": "",
            "children": [
              "IPY_MODEL_aa3524874ba146f3988b29c08ceeae39",
              "IPY_MODEL_478a4c12e0ee4501a4f3edab4b818e39",
              "IPY_MODEL_11e6f09813b84e96916fa4a6a154af55"
            ],
            "layout": "IPY_MODEL_540e1756870d4ca49ddd5e8822e2c8ee"
          }
        },
        "aa3524874ba146f3988b29c08ceeae39": {
          "model_module": "@jupyter-widgets/controls",
          "model_name": "HTMLModel",
          "model_module_version": "1.5.0",
          "state": {
            "_dom_classes": [],
            "_model_module": "@jupyter-widgets/controls",
            "_model_module_version": "1.5.0",
            "_model_name": "HTMLModel",
            "_view_count": null,
            "_view_module": "@jupyter-widgets/controls",
            "_view_module_version": "1.5.0",
            "_view_name": "HTMLView",
            "description": "",
            "description_tooltip": null,
            "layout": "IPY_MODEL_cdf1700051004763a243efc3f3e58a7f",
            "placeholder": "​",
            "style": "IPY_MODEL_1b8debcf70884eb1816bfdeb6e015c13",
            "value": "Downloading data: 100%"
          }
        },
        "478a4c12e0ee4501a4f3edab4b818e39": {
          "model_module": "@jupyter-widgets/controls",
          "model_name": "FloatProgressModel",
          "model_module_version": "1.5.0",
          "state": {
            "_dom_classes": [],
            "_model_module": "@jupyter-widgets/controls",
            "_model_module_version": "1.5.0",
            "_model_name": "FloatProgressModel",
            "_view_count": null,
            "_view_module": "@jupyter-widgets/controls",
            "_view_module_version": "1.5.0",
            "_view_name": "ProgressView",
            "bar_style": "success",
            "description": "",
            "description_tooltip": null,
            "layout": "IPY_MODEL_dd0fde0bd2fc481aa9b2b410d12e186a",
            "max": 20877686,
            "min": 0,
            "orientation": "horizontal",
            "style": "IPY_MODEL_4c1bfa390fd44883afb9f551ba845099",
            "value": 20877686
          }
        },
        "11e6f09813b84e96916fa4a6a154af55": {
          "model_module": "@jupyter-widgets/controls",
          "model_name": "HTMLModel",
          "model_module_version": "1.5.0",
          "state": {
            "_dom_classes": [],
            "_model_module": "@jupyter-widgets/controls",
            "_model_module_version": "1.5.0",
            "_model_name": "HTMLModel",
            "_view_count": null,
            "_view_module": "@jupyter-widgets/controls",
            "_view_module_version": "1.5.0",
            "_view_name": "HTMLView",
            "description": "",
            "description_tooltip": null,
            "layout": "IPY_MODEL_f9bb12dfbbb64affbc8ead1b8ceda9da",
            "placeholder": "​",
            "style": "IPY_MODEL_f2ccb78724d24c26bd061d295ac97f72",
            "value": " 20.9M/20.9M [00:00&lt;00:00, 38.7MB/s]"
          }
        },
        "540e1756870d4ca49ddd5e8822e2c8ee": {
          "model_module": "@jupyter-widgets/base",
          "model_name": "LayoutModel",
          "model_module_version": "1.2.0",
          "state": {
            "_model_module": "@jupyter-widgets/base",
            "_model_module_version": "1.2.0",
            "_model_name": "LayoutModel",
            "_view_count": null,
            "_view_module": "@jupyter-widgets/base",
            "_view_module_version": "1.2.0",
            "_view_name": "LayoutView",
            "align_content": null,
            "align_items": null,
            "align_self": null,
            "border": null,
            "bottom": null,
            "display": null,
            "flex": null,
            "flex_flow": null,
            "grid_area": null,
            "grid_auto_columns": null,
            "grid_auto_flow": null,
            "grid_auto_rows": null,
            "grid_column": null,
            "grid_gap": null,
            "grid_row": null,
            "grid_template_areas": null,
            "grid_template_columns": null,
            "grid_template_rows": null,
            "height": null,
            "justify_content": null,
            "justify_items": null,
            "left": null,
            "margin": null,
            "max_height": null,
            "max_width": null,
            "min_height": null,
            "min_width": null,
            "object_fit": null,
            "object_position": null,
            "order": null,
            "overflow": null,
            "overflow_x": null,
            "overflow_y": null,
            "padding": null,
            "right": null,
            "top": null,
            "visibility": null,
            "width": null
          }
        },
        "cdf1700051004763a243efc3f3e58a7f": {
          "model_module": "@jupyter-widgets/base",
          "model_name": "LayoutModel",
          "model_module_version": "1.2.0",
          "state": {
            "_model_module": "@jupyter-widgets/base",
            "_model_module_version": "1.2.0",
            "_model_name": "LayoutModel",
            "_view_count": null,
            "_view_module": "@jupyter-widgets/base",
            "_view_module_version": "1.2.0",
            "_view_name": "LayoutView",
            "align_content": null,
            "align_items": null,
            "align_self": null,
            "border": null,
            "bottom": null,
            "display": null,
            "flex": null,
            "flex_flow": null,
            "grid_area": null,
            "grid_auto_columns": null,
            "grid_auto_flow": null,
            "grid_auto_rows": null,
            "grid_column": null,
            "grid_gap": null,
            "grid_row": null,
            "grid_template_areas": null,
            "grid_template_columns": null,
            "grid_template_rows": null,
            "height": null,
            "justify_content": null,
            "justify_items": null,
            "left": null,
            "margin": null,
            "max_height": null,
            "max_width": null,
            "min_height": null,
            "min_width": null,
            "object_fit": null,
            "object_position": null,
            "order": null,
            "overflow": null,
            "overflow_x": null,
            "overflow_y": null,
            "padding": null,
            "right": null,
            "top": null,
            "visibility": null,
            "width": null
          }
        },
        "1b8debcf70884eb1816bfdeb6e015c13": {
          "model_module": "@jupyter-widgets/controls",
          "model_name": "DescriptionStyleModel",
          "model_module_version": "1.5.0",
          "state": {
            "_model_module": "@jupyter-widgets/controls",
            "_model_module_version": "1.5.0",
            "_model_name": "DescriptionStyleModel",
            "_view_count": null,
            "_view_module": "@jupyter-widgets/base",
            "_view_module_version": "1.2.0",
            "_view_name": "StyleView",
            "description_width": ""
          }
        },
        "dd0fde0bd2fc481aa9b2b410d12e186a": {
          "model_module": "@jupyter-widgets/base",
          "model_name": "LayoutModel",
          "model_module_version": "1.2.0",
          "state": {
            "_model_module": "@jupyter-widgets/base",
            "_model_module_version": "1.2.0",
            "_model_name": "LayoutModel",
            "_view_count": null,
            "_view_module": "@jupyter-widgets/base",
            "_view_module_version": "1.2.0",
            "_view_name": "LayoutView",
            "align_content": null,
            "align_items": null,
            "align_self": null,
            "border": null,
            "bottom": null,
            "display": null,
            "flex": null,
            "flex_flow": null,
            "grid_area": null,
            "grid_auto_columns": null,
            "grid_auto_flow": null,
            "grid_auto_rows": null,
            "grid_column": null,
            "grid_gap": null,
            "grid_row": null,
            "grid_template_areas": null,
            "grid_template_columns": null,
            "grid_template_rows": null,
            "height": null,
            "justify_content": null,
            "justify_items": null,
            "left": null,
            "margin": null,
            "max_height": null,
            "max_width": null,
            "min_height": null,
            "min_width": null,
            "object_fit": null,
            "object_position": null,
            "order": null,
            "overflow": null,
            "overflow_x": null,
            "overflow_y": null,
            "padding": null,
            "right": null,
            "top": null,
            "visibility": null,
            "width": null
          }
        },
        "4c1bfa390fd44883afb9f551ba845099": {
          "model_module": "@jupyter-widgets/controls",
          "model_name": "ProgressStyleModel",
          "model_module_version": "1.5.0",
          "state": {
            "_model_module": "@jupyter-widgets/controls",
            "_model_module_version": "1.5.0",
            "_model_name": "ProgressStyleModel",
            "_view_count": null,
            "_view_module": "@jupyter-widgets/base",
            "_view_module_version": "1.2.0",
            "_view_name": "StyleView",
            "bar_color": null,
            "description_width": ""
          }
        },
        "f9bb12dfbbb64affbc8ead1b8ceda9da": {
          "model_module": "@jupyter-widgets/base",
          "model_name": "LayoutModel",
          "model_module_version": "1.2.0",
          "state": {
            "_model_module": "@jupyter-widgets/base",
            "_model_module_version": "1.2.0",
            "_model_name": "LayoutModel",
            "_view_count": null,
            "_view_module": "@jupyter-widgets/base",
            "_view_module_version": "1.2.0",
            "_view_name": "LayoutView",
            "align_content": null,
            "align_items": null,
            "align_self": null,
            "border": null,
            "bottom": null,
            "display": null,
            "flex": null,
            "flex_flow": null,
            "grid_area": null,
            "grid_auto_columns": null,
            "grid_auto_flow": null,
            "grid_auto_rows": null,
            "grid_column": null,
            "grid_gap": null,
            "grid_row": null,
            "grid_template_areas": null,
            "grid_template_columns": null,
            "grid_template_rows": null,
            "height": null,
            "justify_content": null,
            "justify_items": null,
            "left": null,
            "margin": null,
            "max_height": null,
            "max_width": null,
            "min_height": null,
            "min_width": null,
            "object_fit": null,
            "object_position": null,
            "order": null,
            "overflow": null,
            "overflow_x": null,
            "overflow_y": null,
            "padding": null,
            "right": null,
            "top": null,
            "visibility": null,
            "width": null
          }
        },
        "f2ccb78724d24c26bd061d295ac97f72": {
          "model_module": "@jupyter-widgets/controls",
          "model_name": "DescriptionStyleModel",
          "model_module_version": "1.5.0",
          "state": {
            "_model_module": "@jupyter-widgets/controls",
            "_model_module_version": "1.5.0",
            "_model_name": "DescriptionStyleModel",
            "_view_count": null,
            "_view_module": "@jupyter-widgets/base",
            "_view_module_version": "1.2.0",
            "_view_name": "StyleView",
            "description_width": ""
          }
        },
        "647430b120d745c3b664ec28d7d107c0": {
          "model_module": "@jupyter-widgets/controls",
          "model_name": "HBoxModel",
          "model_module_version": "1.5.0",
          "state": {
            "_dom_classes": [],
            "_model_module": "@jupyter-widgets/controls",
            "_model_module_version": "1.5.0",
            "_model_name": "HBoxModel",
            "_view_count": null,
            "_view_module": "@jupyter-widgets/controls",
            "_view_module_version": "1.5.0",
            "_view_name": "HBoxView",
            "box_style": "",
            "children": [
              "IPY_MODEL_8f34235f71d54ed2b1af5a25a9446978",
              "IPY_MODEL_28c6a4b5bc97467a9bf23ced9e9951a5",
              "IPY_MODEL_b8102b4c91354b6db3a60f0ea11de714"
            ],
            "layout": "IPY_MODEL_a04ac4534e9745288186b20c32d6db4f"
          }
        },
        "8f34235f71d54ed2b1af5a25a9446978": {
          "model_module": "@jupyter-widgets/controls",
          "model_name": "HTMLModel",
          "model_module_version": "1.5.0",
          "state": {
            "_dom_classes": [],
            "_model_module": "@jupyter-widgets/controls",
            "_model_module_version": "1.5.0",
            "_model_name": "HTMLModel",
            "_view_count": null,
            "_view_module": "@jupyter-widgets/controls",
            "_view_module_version": "1.5.0",
            "_view_name": "HTMLView",
            "description": "",
            "description_tooltip": null,
            "layout": "IPY_MODEL_51fd773d33704c16867c0700aeb91d3c",
            "placeholder": "​",
            "style": "IPY_MODEL_6827f6c65bb94fdbb163e83364574605",
            "value": "Downloading data: 100%"
          }
        },
        "28c6a4b5bc97467a9bf23ced9e9951a5": {
          "model_module": "@jupyter-widgets/controls",
          "model_name": "FloatProgressModel",
          "model_module_version": "1.5.0",
          "state": {
            "_dom_classes": [],
            "_model_module": "@jupyter-widgets/controls",
            "_model_module_version": "1.5.0",
            "_model_name": "FloatProgressModel",
            "_view_count": null,
            "_view_module": "@jupyter-widgets/controls",
            "_view_module_version": "1.5.0",
            "_view_name": "ProgressView",
            "bar_style": "success",
            "description": "",
            "description_tooltip": null,
            "layout": "IPY_MODEL_8fcf0af1fd5740378ff2c810f0130120",
            "max": 1105272,
            "min": 0,
            "orientation": "horizontal",
            "style": "IPY_MODEL_2722ffa0df584593b9018d4a56645e3e",
            "value": 1105272
          }
        },
        "b8102b4c91354b6db3a60f0ea11de714": {
          "model_module": "@jupyter-widgets/controls",
          "model_name": "HTMLModel",
          "model_module_version": "1.5.0",
          "state": {
            "_dom_classes": [],
            "_model_module": "@jupyter-widgets/controls",
            "_model_module_version": "1.5.0",
            "_model_name": "HTMLModel",
            "_view_count": null,
            "_view_module": "@jupyter-widgets/controls",
            "_view_module_version": "1.5.0",
            "_view_name": "HTMLView",
            "description": "",
            "description_tooltip": null,
            "layout": "IPY_MODEL_0b23b11dff0c4415b1de7cb83301e098",
            "placeholder": "​",
            "style": "IPY_MODEL_a54bedb8b7684b2babc3bdf151cfd6af",
            "value": " 1.11M/1.11M [00:00&lt;00:00, 5.93MB/s]"
          }
        },
        "a04ac4534e9745288186b20c32d6db4f": {
          "model_module": "@jupyter-widgets/base",
          "model_name": "LayoutModel",
          "model_module_version": "1.2.0",
          "state": {
            "_model_module": "@jupyter-widgets/base",
            "_model_module_version": "1.2.0",
            "_model_name": "LayoutModel",
            "_view_count": null,
            "_view_module": "@jupyter-widgets/base",
            "_view_module_version": "1.2.0",
            "_view_name": "LayoutView",
            "align_content": null,
            "align_items": null,
            "align_self": null,
            "border": null,
            "bottom": null,
            "display": null,
            "flex": null,
            "flex_flow": null,
            "grid_area": null,
            "grid_auto_columns": null,
            "grid_auto_flow": null,
            "grid_auto_rows": null,
            "grid_column": null,
            "grid_gap": null,
            "grid_row": null,
            "grid_template_areas": null,
            "grid_template_columns": null,
            "grid_template_rows": null,
            "height": null,
            "justify_content": null,
            "justify_items": null,
            "left": null,
            "margin": null,
            "max_height": null,
            "max_width": null,
            "min_height": null,
            "min_width": null,
            "object_fit": null,
            "object_position": null,
            "order": null,
            "overflow": null,
            "overflow_x": null,
            "overflow_y": null,
            "padding": null,
            "right": null,
            "top": null,
            "visibility": null,
            "width": null
          }
        },
        "51fd773d33704c16867c0700aeb91d3c": {
          "model_module": "@jupyter-widgets/base",
          "model_name": "LayoutModel",
          "model_module_version": "1.2.0",
          "state": {
            "_model_module": "@jupyter-widgets/base",
            "_model_module_version": "1.2.0",
            "_model_name": "LayoutModel",
            "_view_count": null,
            "_view_module": "@jupyter-widgets/base",
            "_view_module_version": "1.2.0",
            "_view_name": "LayoutView",
            "align_content": null,
            "align_items": null,
            "align_self": null,
            "border": null,
            "bottom": null,
            "display": null,
            "flex": null,
            "flex_flow": null,
            "grid_area": null,
            "grid_auto_columns": null,
            "grid_auto_flow": null,
            "grid_auto_rows": null,
            "grid_column": null,
            "grid_gap": null,
            "grid_row": null,
            "grid_template_areas": null,
            "grid_template_columns": null,
            "grid_template_rows": null,
            "height": null,
            "justify_content": null,
            "justify_items": null,
            "left": null,
            "margin": null,
            "max_height": null,
            "max_width": null,
            "min_height": null,
            "min_width": null,
            "object_fit": null,
            "object_position": null,
            "order": null,
            "overflow": null,
            "overflow_x": null,
            "overflow_y": null,
            "padding": null,
            "right": null,
            "top": null,
            "visibility": null,
            "width": null
          }
        },
        "6827f6c65bb94fdbb163e83364574605": {
          "model_module": "@jupyter-widgets/controls",
          "model_name": "DescriptionStyleModel",
          "model_module_version": "1.5.0",
          "state": {
            "_model_module": "@jupyter-widgets/controls",
            "_model_module_version": "1.5.0",
            "_model_name": "DescriptionStyleModel",
            "_view_count": null,
            "_view_module": "@jupyter-widgets/base",
            "_view_module_version": "1.2.0",
            "_view_name": "StyleView",
            "description_width": ""
          }
        },
        "8fcf0af1fd5740378ff2c810f0130120": {
          "model_module": "@jupyter-widgets/base",
          "model_name": "LayoutModel",
          "model_module_version": "1.2.0",
          "state": {
            "_model_module": "@jupyter-widgets/base",
            "_model_module_version": "1.2.0",
            "_model_name": "LayoutModel",
            "_view_count": null,
            "_view_module": "@jupyter-widgets/base",
            "_view_module_version": "1.2.0",
            "_view_name": "LayoutView",
            "align_content": null,
            "align_items": null,
            "align_self": null,
            "border": null,
            "bottom": null,
            "display": null,
            "flex": null,
            "flex_flow": null,
            "grid_area": null,
            "grid_auto_columns": null,
            "grid_auto_flow": null,
            "grid_auto_rows": null,
            "grid_column": null,
            "grid_gap": null,
            "grid_row": null,
            "grid_template_areas": null,
            "grid_template_columns": null,
            "grid_template_rows": null,
            "height": null,
            "justify_content": null,
            "justify_items": null,
            "left": null,
            "margin": null,
            "max_height": null,
            "max_width": null,
            "min_height": null,
            "min_width": null,
            "object_fit": null,
            "object_position": null,
            "order": null,
            "overflow": null,
            "overflow_x": null,
            "overflow_y": null,
            "padding": null,
            "right": null,
            "top": null,
            "visibility": null,
            "width": null
          }
        },
        "2722ffa0df584593b9018d4a56645e3e": {
          "model_module": "@jupyter-widgets/controls",
          "model_name": "ProgressStyleModel",
          "model_module_version": "1.5.0",
          "state": {
            "_model_module": "@jupyter-widgets/controls",
            "_model_module_version": "1.5.0",
            "_model_name": "ProgressStyleModel",
            "_view_count": null,
            "_view_module": "@jupyter-widgets/base",
            "_view_module_version": "1.2.0",
            "_view_name": "StyleView",
            "bar_color": null,
            "description_width": ""
          }
        },
        "0b23b11dff0c4415b1de7cb83301e098": {
          "model_module": "@jupyter-widgets/base",
          "model_name": "LayoutModel",
          "model_module_version": "1.2.0",
          "state": {
            "_model_module": "@jupyter-widgets/base",
            "_model_module_version": "1.2.0",
            "_model_name": "LayoutModel",
            "_view_count": null,
            "_view_module": "@jupyter-widgets/base",
            "_view_module_version": "1.2.0",
            "_view_name": "LayoutView",
            "align_content": null,
            "align_items": null,
            "align_self": null,
            "border": null,
            "bottom": null,
            "display": null,
            "flex": null,
            "flex_flow": null,
            "grid_area": null,
            "grid_auto_columns": null,
            "grid_auto_flow": null,
            "grid_auto_rows": null,
            "grid_column": null,
            "grid_gap": null,
            "grid_row": null,
            "grid_template_areas": null,
            "grid_template_columns": null,
            "grid_template_rows": null,
            "height": null,
            "justify_content": null,
            "justify_items": null,
            "left": null,
            "margin": null,
            "max_height": null,
            "max_width": null,
            "min_height": null,
            "min_width": null,
            "object_fit": null,
            "object_position": null,
            "order": null,
            "overflow": null,
            "overflow_x": null,
            "overflow_y": null,
            "padding": null,
            "right": null,
            "top": null,
            "visibility": null,
            "width": null
          }
        },
        "a54bedb8b7684b2babc3bdf151cfd6af": {
          "model_module": "@jupyter-widgets/controls",
          "model_name": "DescriptionStyleModel",
          "model_module_version": "1.5.0",
          "state": {
            "_model_module": "@jupyter-widgets/controls",
            "_model_module_version": "1.5.0",
            "_model_name": "DescriptionStyleModel",
            "_view_count": null,
            "_view_module": "@jupyter-widgets/base",
            "_view_module_version": "1.2.0",
            "_view_name": "StyleView",
            "description_width": ""
          }
        },
        "5de589d879394079aac6de35840c3d01": {
          "model_module": "@jupyter-widgets/controls",
          "model_name": "HBoxModel",
          "model_module_version": "1.5.0",
          "state": {
            "_dom_classes": [],
            "_model_module": "@jupyter-widgets/controls",
            "_model_module_version": "1.5.0",
            "_model_name": "HBoxModel",
            "_view_count": null,
            "_view_module": "@jupyter-widgets/controls",
            "_view_module_version": "1.5.0",
            "_view_name": "HBoxView",
            "box_style": "",
            "children": [
              "IPY_MODEL_b31431fd8c334a10bf6a0ea4e854aee3",
              "IPY_MODEL_958cd549b91e418fb95664a344c90361",
              "IPY_MODEL_7093bb4287eb4598b8639ee161d4a0aa"
            ],
            "layout": "IPY_MODEL_65567ef117f24044b4cd528c8f32ed65"
          }
        },
        "b31431fd8c334a10bf6a0ea4e854aee3": {
          "model_module": "@jupyter-widgets/controls",
          "model_name": "HTMLModel",
          "model_module_version": "1.5.0",
          "state": {
            "_dom_classes": [],
            "_model_module": "@jupyter-widgets/controls",
            "_model_module_version": "1.5.0",
            "_model_name": "HTMLModel",
            "_view_count": null,
            "_view_module": "@jupyter-widgets/controls",
            "_view_module_version": "1.5.0",
            "_view_name": "HTMLView",
            "description": "",
            "description_tooltip": null,
            "layout": "IPY_MODEL_6e5c56ca3d394e33a4bab10027a32d2e",
            "placeholder": "​",
            "style": "IPY_MODEL_8743260ea02e4361a27d6f30c86f5275",
            "value": "Generating train split: "
          }
        },
        "958cd549b91e418fb95664a344c90361": {
          "model_module": "@jupyter-widgets/controls",
          "model_name": "FloatProgressModel",
          "model_module_version": "1.5.0",
          "state": {
            "_dom_classes": [],
            "_model_module": "@jupyter-widgets/controls",
            "_model_module_version": "1.5.0",
            "_model_name": "FloatProgressModel",
            "_view_count": null,
            "_view_module": "@jupyter-widgets/controls",
            "_view_module_version": "1.5.0",
            "_view_name": "ProgressView",
            "bar_style": "success",
            "description": "",
            "description_tooltip": null,
            "layout": "IPY_MODEL_2501491f5b9346f3a6273cb955713b34",
            "max": 1,
            "min": 0,
            "orientation": "horizontal",
            "style": "IPY_MODEL_bb96e3d4c4104933809e7946e7df5dec",
            "value": 1
          }
        },
        "7093bb4287eb4598b8639ee161d4a0aa": {
          "model_module": "@jupyter-widgets/controls",
          "model_name": "HTMLModel",
          "model_module_version": "1.5.0",
          "state": {
            "_dom_classes": [],
            "_model_module": "@jupyter-widgets/controls",
            "_model_module_version": "1.5.0",
            "_model_name": "HTMLModel",
            "_view_count": null,
            "_view_module": "@jupyter-widgets/controls",
            "_view_module_version": "1.5.0",
            "_view_name": "HTMLView",
            "description": "",
            "description_tooltip": null,
            "layout": "IPY_MODEL_a48144ead9f4474b94d2fd5fc107991a",
            "placeholder": "​",
            "style": "IPY_MODEL_3b9be7fdb1dc49b3ad61294a469979bd",
            "value": " 9846/0 [00:00&lt;00:00, 34667.45 examples/s]"
          }
        },
        "65567ef117f24044b4cd528c8f32ed65": {
          "model_module": "@jupyter-widgets/base",
          "model_name": "LayoutModel",
          "model_module_version": "1.2.0",
          "state": {
            "_model_module": "@jupyter-widgets/base",
            "_model_module_version": "1.2.0",
            "_model_name": "LayoutModel",
            "_view_count": null,
            "_view_module": "@jupyter-widgets/base",
            "_view_module_version": "1.2.0",
            "_view_name": "LayoutView",
            "align_content": null,
            "align_items": null,
            "align_self": null,
            "border": null,
            "bottom": null,
            "display": null,
            "flex": null,
            "flex_flow": null,
            "grid_area": null,
            "grid_auto_columns": null,
            "grid_auto_flow": null,
            "grid_auto_rows": null,
            "grid_column": null,
            "grid_gap": null,
            "grid_row": null,
            "grid_template_areas": null,
            "grid_template_columns": null,
            "grid_template_rows": null,
            "height": null,
            "justify_content": null,
            "justify_items": null,
            "left": null,
            "margin": null,
            "max_height": null,
            "max_width": null,
            "min_height": null,
            "min_width": null,
            "object_fit": null,
            "object_position": null,
            "order": null,
            "overflow": null,
            "overflow_x": null,
            "overflow_y": null,
            "padding": null,
            "right": null,
            "top": null,
            "visibility": null,
            "width": null
          }
        },
        "6e5c56ca3d394e33a4bab10027a32d2e": {
          "model_module": "@jupyter-widgets/base",
          "model_name": "LayoutModel",
          "model_module_version": "1.2.0",
          "state": {
            "_model_module": "@jupyter-widgets/base",
            "_model_module_version": "1.2.0",
            "_model_name": "LayoutModel",
            "_view_count": null,
            "_view_module": "@jupyter-widgets/base",
            "_view_module_version": "1.2.0",
            "_view_name": "LayoutView",
            "align_content": null,
            "align_items": null,
            "align_self": null,
            "border": null,
            "bottom": null,
            "display": null,
            "flex": null,
            "flex_flow": null,
            "grid_area": null,
            "grid_auto_columns": null,
            "grid_auto_flow": null,
            "grid_auto_rows": null,
            "grid_column": null,
            "grid_gap": null,
            "grid_row": null,
            "grid_template_areas": null,
            "grid_template_columns": null,
            "grid_template_rows": null,
            "height": null,
            "justify_content": null,
            "justify_items": null,
            "left": null,
            "margin": null,
            "max_height": null,
            "max_width": null,
            "min_height": null,
            "min_width": null,
            "object_fit": null,
            "object_position": null,
            "order": null,
            "overflow": null,
            "overflow_x": null,
            "overflow_y": null,
            "padding": null,
            "right": null,
            "top": null,
            "visibility": null,
            "width": null
          }
        },
        "8743260ea02e4361a27d6f30c86f5275": {
          "model_module": "@jupyter-widgets/controls",
          "model_name": "DescriptionStyleModel",
          "model_module_version": "1.5.0",
          "state": {
            "_model_module": "@jupyter-widgets/controls",
            "_model_module_version": "1.5.0",
            "_model_name": "DescriptionStyleModel",
            "_view_count": null,
            "_view_module": "@jupyter-widgets/base",
            "_view_module_version": "1.2.0",
            "_view_name": "StyleView",
            "description_width": ""
          }
        },
        "2501491f5b9346f3a6273cb955713b34": {
          "model_module": "@jupyter-widgets/base",
          "model_name": "LayoutModel",
          "model_module_version": "1.2.0",
          "state": {
            "_model_module": "@jupyter-widgets/base",
            "_model_module_version": "1.2.0",
            "_model_name": "LayoutModel",
            "_view_count": null,
            "_view_module": "@jupyter-widgets/base",
            "_view_module_version": "1.2.0",
            "_view_name": "LayoutView",
            "align_content": null,
            "align_items": null,
            "align_self": null,
            "border": null,
            "bottom": null,
            "display": null,
            "flex": null,
            "flex_flow": null,
            "grid_area": null,
            "grid_auto_columns": null,
            "grid_auto_flow": null,
            "grid_auto_rows": null,
            "grid_column": null,
            "grid_gap": null,
            "grid_row": null,
            "grid_template_areas": null,
            "grid_template_columns": null,
            "grid_template_rows": null,
            "height": null,
            "justify_content": null,
            "justify_items": null,
            "left": null,
            "margin": null,
            "max_height": null,
            "max_width": null,
            "min_height": null,
            "min_width": null,
            "object_fit": null,
            "object_position": null,
            "order": null,
            "overflow": null,
            "overflow_x": null,
            "overflow_y": null,
            "padding": null,
            "right": null,
            "top": null,
            "visibility": null,
            "width": "20px"
          }
        },
        "bb96e3d4c4104933809e7946e7df5dec": {
          "model_module": "@jupyter-widgets/controls",
          "model_name": "ProgressStyleModel",
          "model_module_version": "1.5.0",
          "state": {
            "_model_module": "@jupyter-widgets/controls",
            "_model_module_version": "1.5.0",
            "_model_name": "ProgressStyleModel",
            "_view_count": null,
            "_view_module": "@jupyter-widgets/base",
            "_view_module_version": "1.2.0",
            "_view_name": "StyleView",
            "bar_color": null,
            "description_width": ""
          }
        },
        "a48144ead9f4474b94d2fd5fc107991a": {
          "model_module": "@jupyter-widgets/base",
          "model_name": "LayoutModel",
          "model_module_version": "1.2.0",
          "state": {
            "_model_module": "@jupyter-widgets/base",
            "_model_module_version": "1.2.0",
            "_model_name": "LayoutModel",
            "_view_count": null,
            "_view_module": "@jupyter-widgets/base",
            "_view_module_version": "1.2.0",
            "_view_name": "LayoutView",
            "align_content": null,
            "align_items": null,
            "align_self": null,
            "border": null,
            "bottom": null,
            "display": null,
            "flex": null,
            "flex_flow": null,
            "grid_area": null,
            "grid_auto_columns": null,
            "grid_auto_flow": null,
            "grid_auto_rows": null,
            "grid_column": null,
            "grid_gap": null,
            "grid_row": null,
            "grid_template_areas": null,
            "grid_template_columns": null,
            "grid_template_rows": null,
            "height": null,
            "justify_content": null,
            "justify_items": null,
            "left": null,
            "margin": null,
            "max_height": null,
            "max_width": null,
            "min_height": null,
            "min_width": null,
            "object_fit": null,
            "object_position": null,
            "order": null,
            "overflow": null,
            "overflow_x": null,
            "overflow_y": null,
            "padding": null,
            "right": null,
            "top": null,
            "visibility": null,
            "width": null
          }
        },
        "3b9be7fdb1dc49b3ad61294a469979bd": {
          "model_module": "@jupyter-widgets/controls",
          "model_name": "DescriptionStyleModel",
          "model_module_version": "1.5.0",
          "state": {
            "_model_module": "@jupyter-widgets/controls",
            "_model_module_version": "1.5.0",
            "_model_name": "DescriptionStyleModel",
            "_view_count": null,
            "_view_module": "@jupyter-widgets/base",
            "_view_module_version": "1.2.0",
            "_view_name": "StyleView",
            "description_width": ""
          }
        },
        "3a1f2eea74334d7e827f2f1fca07f803": {
          "model_module": "@jupyter-widgets/controls",
          "model_name": "HBoxModel",
          "model_module_version": "1.5.0",
          "state": {
            "_dom_classes": [],
            "_model_module": "@jupyter-widgets/controls",
            "_model_module_version": "1.5.0",
            "_model_name": "HBoxModel",
            "_view_count": null,
            "_view_module": "@jupyter-widgets/controls",
            "_view_module_version": "1.5.0",
            "_view_name": "HBoxView",
            "box_style": "",
            "children": [
              "IPY_MODEL_57675b1aa0c749c4b55ad465ddd3e9cc",
              "IPY_MODEL_aa855f25c58f4718abebfd0fbf1d1d1a",
              "IPY_MODEL_35d63506e8184d58a022686268d3bf92"
            ],
            "layout": "IPY_MODEL_80f405403e684378921dbd956cbaa378"
          }
        },
        "57675b1aa0c749c4b55ad465ddd3e9cc": {
          "model_module": "@jupyter-widgets/controls",
          "model_name": "HTMLModel",
          "model_module_version": "1.5.0",
          "state": {
            "_dom_classes": [],
            "_model_module": "@jupyter-widgets/controls",
            "_model_module_version": "1.5.0",
            "_model_name": "HTMLModel",
            "_view_count": null,
            "_view_module": "@jupyter-widgets/controls",
            "_view_module_version": "1.5.0",
            "_view_name": "HTMLView",
            "description": "",
            "description_tooltip": null,
            "layout": "IPY_MODEL_26cdc62e1f7241099f518a2241d6958d",
            "placeholder": "​",
            "style": "IPY_MODEL_f6092b8b0b4041eaa53cb8d2e7bdc8ef",
            "value": "Generating test split: "
          }
        },
        "aa855f25c58f4718abebfd0fbf1d1d1a": {
          "model_module": "@jupyter-widgets/controls",
          "model_name": "FloatProgressModel",
          "model_module_version": "1.5.0",
          "state": {
            "_dom_classes": [],
            "_model_module": "@jupyter-widgets/controls",
            "_model_module_version": "1.5.0",
            "_model_name": "FloatProgressModel",
            "_view_count": null,
            "_view_module": "@jupyter-widgets/controls",
            "_view_module_version": "1.5.0",
            "_view_name": "ProgressView",
            "bar_style": "success",
            "description": "",
            "description_tooltip": null,
            "layout": "IPY_MODEL_0fd24e9a7dee4283a187ba60032710e7",
            "max": 1,
            "min": 0,
            "orientation": "horizontal",
            "style": "IPY_MODEL_cd211483295e4c0c8f873e462b89aef5",
            "value": 1
          }
        },
        "35d63506e8184d58a022686268d3bf92": {
          "model_module": "@jupyter-widgets/controls",
          "model_name": "HTMLModel",
          "model_module_version": "1.5.0",
          "state": {
            "_dom_classes": [],
            "_model_module": "@jupyter-widgets/controls",
            "_model_module_version": "1.5.0",
            "_model_name": "HTMLModel",
            "_view_count": null,
            "_view_module": "@jupyter-widgets/controls",
            "_view_module_version": "1.5.0",
            "_view_name": "HTMLView",
            "description": "",
            "description_tooltip": null,
            "layout": "IPY_MODEL_086c559b83f0445896e9883700bd8a74",
            "placeholder": "​",
            "style": "IPY_MODEL_1a4ffeae870f4caaaa8016f0e2bf2042",
            "value": " 518/0 [00:00&lt;00:00, 26052.20 examples/s]"
          }
        },
        "80f405403e684378921dbd956cbaa378": {
          "model_module": "@jupyter-widgets/base",
          "model_name": "LayoutModel",
          "model_module_version": "1.2.0",
          "state": {
            "_model_module": "@jupyter-widgets/base",
            "_model_module_version": "1.2.0",
            "_model_name": "LayoutModel",
            "_view_count": null,
            "_view_module": "@jupyter-widgets/base",
            "_view_module_version": "1.2.0",
            "_view_name": "LayoutView",
            "align_content": null,
            "align_items": null,
            "align_self": null,
            "border": null,
            "bottom": null,
            "display": null,
            "flex": null,
            "flex_flow": null,
            "grid_area": null,
            "grid_auto_columns": null,
            "grid_auto_flow": null,
            "grid_auto_rows": null,
            "grid_column": null,
            "grid_gap": null,
            "grid_row": null,
            "grid_template_areas": null,
            "grid_template_columns": null,
            "grid_template_rows": null,
            "height": null,
            "justify_content": null,
            "justify_items": null,
            "left": null,
            "margin": null,
            "max_height": null,
            "max_width": null,
            "min_height": null,
            "min_width": null,
            "object_fit": null,
            "object_position": null,
            "order": null,
            "overflow": null,
            "overflow_x": null,
            "overflow_y": null,
            "padding": null,
            "right": null,
            "top": null,
            "visibility": null,
            "width": null
          }
        },
        "26cdc62e1f7241099f518a2241d6958d": {
          "model_module": "@jupyter-widgets/base",
          "model_name": "LayoutModel",
          "model_module_version": "1.2.0",
          "state": {
            "_model_module": "@jupyter-widgets/base",
            "_model_module_version": "1.2.0",
            "_model_name": "LayoutModel",
            "_view_count": null,
            "_view_module": "@jupyter-widgets/base",
            "_view_module_version": "1.2.0",
            "_view_name": "LayoutView",
            "align_content": null,
            "align_items": null,
            "align_self": null,
            "border": null,
            "bottom": null,
            "display": null,
            "flex": null,
            "flex_flow": null,
            "grid_area": null,
            "grid_auto_columns": null,
            "grid_auto_flow": null,
            "grid_auto_rows": null,
            "grid_column": null,
            "grid_gap": null,
            "grid_row": null,
            "grid_template_areas": null,
            "grid_template_columns": null,
            "grid_template_rows": null,
            "height": null,
            "justify_content": null,
            "justify_items": null,
            "left": null,
            "margin": null,
            "max_height": null,
            "max_width": null,
            "min_height": null,
            "min_width": null,
            "object_fit": null,
            "object_position": null,
            "order": null,
            "overflow": null,
            "overflow_x": null,
            "overflow_y": null,
            "padding": null,
            "right": null,
            "top": null,
            "visibility": null,
            "width": null
          }
        },
        "f6092b8b0b4041eaa53cb8d2e7bdc8ef": {
          "model_module": "@jupyter-widgets/controls",
          "model_name": "DescriptionStyleModel",
          "model_module_version": "1.5.0",
          "state": {
            "_model_module": "@jupyter-widgets/controls",
            "_model_module_version": "1.5.0",
            "_model_name": "DescriptionStyleModel",
            "_view_count": null,
            "_view_module": "@jupyter-widgets/base",
            "_view_module_version": "1.2.0",
            "_view_name": "StyleView",
            "description_width": ""
          }
        },
        "0fd24e9a7dee4283a187ba60032710e7": {
          "model_module": "@jupyter-widgets/base",
          "model_name": "LayoutModel",
          "model_module_version": "1.2.0",
          "state": {
            "_model_module": "@jupyter-widgets/base",
            "_model_module_version": "1.2.0",
            "_model_name": "LayoutModel",
            "_view_count": null,
            "_view_module": "@jupyter-widgets/base",
            "_view_module_version": "1.2.0",
            "_view_name": "LayoutView",
            "align_content": null,
            "align_items": null,
            "align_self": null,
            "border": null,
            "bottom": null,
            "display": null,
            "flex": null,
            "flex_flow": null,
            "grid_area": null,
            "grid_auto_columns": null,
            "grid_auto_flow": null,
            "grid_auto_rows": null,
            "grid_column": null,
            "grid_gap": null,
            "grid_row": null,
            "grid_template_areas": null,
            "grid_template_columns": null,
            "grid_template_rows": null,
            "height": null,
            "justify_content": null,
            "justify_items": null,
            "left": null,
            "margin": null,
            "max_height": null,
            "max_width": null,
            "min_height": null,
            "min_width": null,
            "object_fit": null,
            "object_position": null,
            "order": null,
            "overflow": null,
            "overflow_x": null,
            "overflow_y": null,
            "padding": null,
            "right": null,
            "top": null,
            "visibility": null,
            "width": "20px"
          }
        },
        "cd211483295e4c0c8f873e462b89aef5": {
          "model_module": "@jupyter-widgets/controls",
          "model_name": "ProgressStyleModel",
          "model_module_version": "1.5.0",
          "state": {
            "_model_module": "@jupyter-widgets/controls",
            "_model_module_version": "1.5.0",
            "_model_name": "ProgressStyleModel",
            "_view_count": null,
            "_view_module": "@jupyter-widgets/base",
            "_view_module_version": "1.2.0",
            "_view_name": "StyleView",
            "bar_color": null,
            "description_width": ""
          }
        },
        "086c559b83f0445896e9883700bd8a74": {
          "model_module": "@jupyter-widgets/base",
          "model_name": "LayoutModel",
          "model_module_version": "1.2.0",
          "state": {
            "_model_module": "@jupyter-widgets/base",
            "_model_module_version": "1.2.0",
            "_model_name": "LayoutModel",
            "_view_count": null,
            "_view_module": "@jupyter-widgets/base",
            "_view_module_version": "1.2.0",
            "_view_name": "LayoutView",
            "align_content": null,
            "align_items": null,
            "align_self": null,
            "border": null,
            "bottom": null,
            "display": null,
            "flex": null,
            "flex_flow": null,
            "grid_area": null,
            "grid_auto_columns": null,
            "grid_auto_flow": null,
            "grid_auto_rows": null,
            "grid_column": null,
            "grid_gap": null,
            "grid_row": null,
            "grid_template_areas": null,
            "grid_template_columns": null,
            "grid_template_rows": null,
            "height": null,
            "justify_content": null,
            "justify_items": null,
            "left": null,
            "margin": null,
            "max_height": null,
            "max_width": null,
            "min_height": null,
            "min_width": null,
            "object_fit": null,
            "object_position": null,
            "order": null,
            "overflow": null,
            "overflow_x": null,
            "overflow_y": null,
            "padding": null,
            "right": null,
            "top": null,
            "visibility": null,
            "width": null
          }
        },
        "1a4ffeae870f4caaaa8016f0e2bf2042": {
          "model_module": "@jupyter-widgets/controls",
          "model_name": "DescriptionStyleModel",
          "model_module_version": "1.5.0",
          "state": {
            "_model_module": "@jupyter-widgets/controls",
            "_model_module_version": "1.5.0",
            "_model_name": "DescriptionStyleModel",
            "_view_count": null,
            "_view_module": "@jupyter-widgets/base",
            "_view_module_version": "1.2.0",
            "_view_name": "StyleView",
            "description_width": ""
          }
        }
      }
    },
    "accelerator": "GPU"
  },
  "cells": [
    {
      "cell_type": "markdown",
      "metadata": {
        "id": "view-in-github",
        "colab_type": "text"
      },
      "source": [
        "<a href=\"https://colab.research.google.com/github/twhool02/atubigdataanalyticsproject1/blob/main/Inference_of_falcon_7b_finetuned_guanaco_local.ipynb\" target=\"_parent\"><img src=\"https://colab.research.google.com/assets/colab-badge.svg\" alt=\"Open In Colab\"/></a>"
      ]
    },
    {
      "cell_type": "markdown",
      "source": [
        "# Run Mistral-7B- 4-bit quantization"
      ],
      "metadata": {
        "id": "tkZueMZDz3qn"
      }
    },
    {
      "cell_type": "markdown",
      "source": [
        "## Setup"
      ],
      "metadata": {
        "id": "A8ueI6JEzR6R"
      }
    },
    {
      "cell_type": "markdown",
      "source": [
        "### Map Google Drive"
      ],
      "metadata": {
        "id": "wIZMjLkbz-Z5"
      }
    },
    {
      "cell_type": "code",
      "execution_count": 1,
      "metadata": {
        "colab": {
          "base_uri": "https://localhost:8080/"
        },
        "id": "WJMQBD7OzMi5",
        "outputId": "43d4ffd0-a8de-4da6-e290-4e09d22e7d59"
      },
      "outputs": [
        {
          "output_type": "stream",
          "name": "stdout",
          "text": [
            "Mounted at /content/drive\n"
          ]
        }
      ],
      "source": [
        "import shutil, os, subprocess\n",
        "\n",
        "# mount google drive\n",
        "from google.colab import drive\n",
        "drive.mount('/content/drive')\n",
        "os.chdir('/content/drive/MyDrive/Colab Notebooks/dissertation')"
      ]
    },
    {
      "cell_type": "markdown",
      "source": [
        "### Log into HuggingFace Hub"
      ],
      "metadata": {
        "id": "rVHNqlQF0D-_"
      }
    },
    {
      "cell_type": "code",
      "source": [
        "# Required when quantizing models/data that are gated on HuggingFace and required for pushing models to HuggingFace\n",
        "!pip install --upgrade huggingface_hub\n",
        "\n",
        "import huggingface_hub\n",
        "\n",
        "print(f\"Hugging Face Version is: {huggingface_hub.__version__}\")"
      ],
      "metadata": {
        "id": "1BZtoDRFze_n",
        "colab": {
          "base_uri": "https://localhost:8080/"
        },
        "outputId": "5b7a194f-58d5-4037-e8ad-7edf2a54fd8a"
      },
      "execution_count": 2,
      "outputs": [
        {
          "output_type": "stream",
          "name": "stdout",
          "text": [
            "Requirement already satisfied: huggingface_hub in /usr/local/lib/python3.10/dist-packages (0.20.3)\n",
            "Requirement already satisfied: filelock in /usr/local/lib/python3.10/dist-packages (from huggingface_hub) (3.13.1)\n",
            "Requirement already satisfied: fsspec>=2023.5.0 in /usr/local/lib/python3.10/dist-packages (from huggingface_hub) (2023.6.0)\n",
            "Requirement already satisfied: requests in /usr/local/lib/python3.10/dist-packages (from huggingface_hub) (2.31.0)\n",
            "Requirement already satisfied: tqdm>=4.42.1 in /usr/local/lib/python3.10/dist-packages (from huggingface_hub) (4.66.1)\n",
            "Requirement already satisfied: pyyaml>=5.1 in /usr/local/lib/python3.10/dist-packages (from huggingface_hub) (6.0.1)\n",
            "Requirement already satisfied: typing-extensions>=3.7.4.3 in /usr/local/lib/python3.10/dist-packages (from huggingface_hub) (4.9.0)\n",
            "Requirement already satisfied: packaging>=20.9 in /usr/local/lib/python3.10/dist-packages (from huggingface_hub) (23.2)\n",
            "Requirement already satisfied: charset-normalizer<4,>=2 in /usr/local/lib/python3.10/dist-packages (from requests->huggingface_hub) (3.3.2)\n",
            "Requirement already satisfied: idna<4,>=2.5 in /usr/local/lib/python3.10/dist-packages (from requests->huggingface_hub) (3.6)\n",
            "Requirement already satisfied: urllib3<3,>=1.21.1 in /usr/local/lib/python3.10/dist-packages (from requests->huggingface_hub) (2.0.7)\n",
            "Requirement already satisfied: certifi>=2017.4.17 in /usr/local/lib/python3.10/dist-packages (from requests->huggingface_hub) (2024.2.2)\n",
            "Hugging Face Version is: 0.20.3\n"
          ]
        }
      ]
    },
    {
      "cell_type": "code",
      "source": [
        "from google.colab import userdata\n",
        "\n",
        "# using the HF_TOKEN secret, this has write permissions to Hugging Face\n",
        "hftoken = userdata.get('HF_TOKEN')"
      ],
      "metadata": {
        "id": "Zxe1lqJYVrSd"
      },
      "execution_count": 3,
      "outputs": []
    },
    {
      "cell_type": "code",
      "source": [
        "from huggingface_hub import login\n",
        "\n",
        "# Log into hugging face using the HF_TOKEN secrect\n",
        "login(hftoken, add_to_git_credential=True)"
      ],
      "metadata": {
        "id": "TxT3T40GV21k",
        "colab": {
          "base_uri": "https://localhost:8080/"
        },
        "outputId": "2dc7ee49-559e-431f-d679-577f5f42e23f"
      },
      "execution_count": 4,
      "outputs": [
        {
          "output_type": "stream",
          "name": "stdout",
          "text": [
            "Token is valid (permission: write).\n",
            "Your token has been saved in your configured git credential helpers (store).\n",
            "Your token has been saved to /root/.cache/huggingface/token\n",
            "Login successful\n"
          ]
        }
      ]
    },
    {
      "cell_type": "markdown",
      "source": [
        "### Install Transformers"
      ],
      "metadata": {
        "id": "p0SOco760QWB"
      }
    },
    {
      "cell_type": "code",
      "source": [
        "# install the development version of transformers\n",
        "# !pip install -q -U git+https://github.com/huggingface/transformers.git -q\n",
        "\n",
        "\n",
        "\n",
        "# The 'accelerate' library is a part of the Hugging Face ecosystem[^1^][1][^2^][2].\n",
        "# It enables the same PyTorch code to be run across any distributed configuration by adding just a few lines of code[^1^][1][^2^][2].\n",
        "# In short, it makes training and inference at scale simple, efficient, and adaptable[^1^][1][^2^][2].\n",
        "# It abstracts the boilerplate code related to multi-GPUs/TPU/fp16 and leaves the rest of your code unchanged[^2^][2].\n",
        "# This library is useful when you want to easily run your training scripts in a distributed environment without having to renounce full control over your training loop[^2^][2][^3^][3].\n",
        "# It is not a high-level framework above PyTorch, just a thin wrapper so you don't have to learn a new library[^2^][2][^3^][3].\n",
        "# !pip install -q -U git+https://github.com/huggingface/accelerate\n",
        "\n",
        "\n",
        "# Install latest available stable builds, upgrade if later version that the currently installed version is available\n",
        "!pip install -q -U transformers -q\n",
        "!pip install -q -U accelerate -q\n",
        "# !pip install -q -U einops\n",
        "!pip install sentencepiece -q\n",
        "\n",
        "# The 'bitsandbytes' library is a lightweight wrapper around CUDA custom functions,\n",
        "# particularly 8-bit optimizers, matrix multiplication (LLM.int8()), and quantization functions[^1^][4][^2^][5].\n",
        "# It is used for tasks like 8-bit inference with HuggingFace Transformers, using 8-bit optimizers,\n",
        "# and replacing certain layers with 8-bit versions for improved performance[^1^][4][^2^][5].\n",
        "!pip install bitsandbytes -q\n",
        "\n",
        "# PEFT stands for Parameter-Efficient Fine-Tuning, developed by Hugging Face that aims to make fine-tuning large language models (LLMs) more efficient and memory-friendly.\n",
        "# Key features of PEFT:\n",
        "# Parameter-efficient fine-tuning: It allows you to fine-tune only a small portion of a large language model's parameters, reducing memory usage and training time significantly.\n",
        "# Adaptive embedding sharing: It dynamically determines which embeddings to share across different tasks, further optimizing memory usage.\n",
        "# Gradient checkpointing: It saves memory by storing only a subset of activations during backpropagation.\n",
        "# Compatibility with Transformers: It integrates seamlessly with the popular Transformers library, making it easy to use with various pre-trained language models.\n",
        "!pip install peft -q\n",
        "\n",
        "# trl is short for Transformers Reinforcement Learning, it's used for fine-tuning transformer models using Proximal Policy Optimization.\n",
        "!pip install trl -q\n",
        "\n",
        "# The 'xformers' library provides customizable and optimized building blocks for Transformers[^3^][1].\n",
        "# It is domain-agnostic and used by researchers in various fields like vision, NLP, etc[^3^][1].\n",
        "# The library contains bleeding-edge components that are not yet available in mainstream libraries like PyTorch[^3^][1].\n",
        "# It is built with efficiency in mind, containing its own CUDA kernels, but dispatches to other libraries when relevant[^3^][1].\n",
        "# !pip install xformers\n",
        "\n",
        "#print the version of transformers\n",
        "import transformers\n",
        "print(transformers.__version__)"
      ],
      "metadata": {
        "id": "zjVKGesI0PwM",
        "colab": {
          "base_uri": "https://localhost:8080/"
        },
        "outputId": "fe07eaa2-d961-44c6-f6bc-24c08b95d772"
      },
      "execution_count": 5,
      "outputs": [
        {
          "output_type": "stream",
          "name": "stdout",
          "text": [
            "\u001b[2K     \u001b[90m━━━━━━━━━━━━━━━━━━━━━━━━━━━━━━━━━━━━━━━━\u001b[0m \u001b[32m8.4/8.4 MB\u001b[0m \u001b[31m21.1 MB/s\u001b[0m eta \u001b[36m0:00:00\u001b[0m\n",
            "\u001b[2K     \u001b[90m━━━━━━━━━━━━━━━━━━━━━━━━━━━━━━━━━━━━━━━━\u001b[0m \u001b[32m279.7/279.7 kB\u001b[0m \u001b[31m5.8 MB/s\u001b[0m eta \u001b[36m0:00:00\u001b[0m\n",
            "\u001b[2K     \u001b[90m━━━━━━━━━━━━━━━━━━━━━━━━━━━━━━━━━━━━━━━━\u001b[0m \u001b[32m105.0/105.0 MB\u001b[0m \u001b[31m15.8 MB/s\u001b[0m eta \u001b[36m0:00:00\u001b[0m\n",
            "\u001b[2K     \u001b[90m━━━━━━━━━━━━━━━━━━━━━━━━━━━━━━━━━━━━━━━━\u001b[0m \u001b[32m183.4/183.4 kB\u001b[0m \u001b[31m4.6 MB/s\u001b[0m eta \u001b[36m0:00:00\u001b[0m\n",
            "\u001b[2K     \u001b[90m━━━━━━━━━━━━━━━━━━━━━━━━━━━━━━━━━━━━━━━━\u001b[0m \u001b[32m150.9/150.9 kB\u001b[0m \u001b[31m4.0 MB/s\u001b[0m eta \u001b[36m0:00:00\u001b[0m\n",
            "\u001b[2K     \u001b[90m━━━━━━━━━━━━━━━━━━━━━━━━━━━━━━━━━━━━━━━━\u001b[0m \u001b[32m536.6/536.6 kB\u001b[0m \u001b[31m10.3 MB/s\u001b[0m eta \u001b[36m0:00:00\u001b[0m\n",
            "\u001b[2K     \u001b[90m━━━━━━━━━━━━━━━━━━━━━━━━━━━━━━━━━━━━━━━━\u001b[0m \u001b[32m79.8/79.8 kB\u001b[0m \u001b[31m8.8 MB/s\u001b[0m eta \u001b[36m0:00:00\u001b[0m\n",
            "\u001b[2K     \u001b[90m━━━━━━━━━━━━━━━━━━━━━━━━━━━━━━━━━━━━━━━━\u001b[0m \u001b[32m38.3/38.3 MB\u001b[0m \u001b[31m39.0 MB/s\u001b[0m eta \u001b[36m0:00:00\u001b[0m\n",
            "\u001b[2K     \u001b[90m━━━━━━━━━━━━━━━━━━━━━━━━━━━━━━━━━━━━━━━━\u001b[0m \u001b[32m116.3/116.3 kB\u001b[0m \u001b[31m14.0 MB/s\u001b[0m eta \u001b[36m0:00:00\u001b[0m\n",
            "\u001b[2K     \u001b[90m━━━━━━━━━━━━━━━━━━━━━━━━━━━━━━━━━━━━━━━━\u001b[0m \u001b[32m134.8/134.8 kB\u001b[0m \u001b[31m17.1 MB/s\u001b[0m eta \u001b[36m0:00:00\u001b[0m\n",
            "\u001b[?25h\u001b[31mERROR: pip's dependency resolver does not currently take into account all the packages that are installed. This behaviour is the source of the following dependency conflicts.\n",
            "ibis-framework 7.1.0 requires pyarrow<15,>=2, but you have pyarrow 15.0.0 which is incompatible.\u001b[0m\u001b[31m\n",
            "\u001b[0m4.37.2\n"
          ]
        }
      ]
    },
    {
      "cell_type": "code",
      "source": [
        "# os is a standard Python library that provides functions for interacting with the operating system.\n",
        "import os\n",
        "\n",
        "# torch is the main package of PyTorch, an open-source machine learning library for Python.\n",
        "import torch\n",
        "\n",
        "# load_dataset is a function from the datasets library by Hugging Face. It allows you to load and preprocess datasets for machine learning models.\n",
        "from datasets import load_dataset\n",
        "\n",
        "# The transformers library is a popular library for Natural Language Processing (NLP). It provides thousands of pre-trained models to perform tasks on texts such as classification, information extraction, summarization, translation, and more.\n",
        "from transformers import (\n",
        "    # AutoModelForCausalLM is a class in the transformers library. It represents a model for causal language modeling.\n",
        "    AutoModelForCausalLM,\n",
        "\n",
        "    # AutoTokenizer is a class in the transformers library. It is used for converting input data into a format that can be used by the model.\n",
        "    AutoTokenizer,\n",
        "\n",
        "    # BitsAndBytesConfig is a configuration class in the transformers library. It is used to configure a BitsAndBytes model.\n",
        "    BitsAndBytesConfig,\n",
        "\n",
        "    # HfArgumentParser is a class in the transformers library. It is used for parsing command-line arguments.\n",
        "    HfArgumentParser,\n",
        "\n",
        "    # TrainingArguments is a class in the transformers library. It defines the arguments used during training.\n",
        "    TrainingArguments,\n",
        "\n",
        "    # pipeline is a high-level function in the transformers library. It creates a pipeline that applies a model to some input data.\n",
        "    pipeline,\n",
        "\n",
        "    # logging is a module in the transformers library. It is used for logging events during training and evaluation.\n",
        "    logging,\n",
        ")\n",
        "\n",
        "# used for Parameter-Efficient Fine-Tuning\n",
        "from peft import LoraConfig, PeftModel\n",
        "\n",
        "# trl is short for Transformers Reinforcement Learning. It is a Python library for fine-tuning transformer models using Proximal Policy Optimization.\n",
        "from trl import SFTTrainer\n"
      ],
      "metadata": {
        "id": "tHq6Xnki8Xml"
      },
      "execution_count": 6,
      "outputs": []
    },
    {
      "cell_type": "markdown",
      "source": [
        "### Create cache directory for Hugging Face Models"
      ],
      "metadata": {
        "id": "E0iaAOGFWH8p"
      }
    },
    {
      "cell_type": "code",
      "source": [
        "# # Set the cache directory to a specific path in your Google Drive.\n",
        "# # This is where Hugging Face models will be cached.\n",
        "# cache_dir = \"/content/drive/MyDrive/Colab Notebooks/dissertation/Llama/Llama2-7b-HF\"\n",
        "\n",
        "# # The os.makedirs() method in Python is used to create directories recursively.\n",
        "# # The exist_ok=True parameter prevents an error if the directory already exists.\n",
        "# os.makedirs(cache_dir, exist_ok=True)\n",
        "# os.chdir(cache_dir)"
      ],
      "metadata": {
        "id": "nYjfvdo3WLUT"
      },
      "execution_count": 7,
      "outputs": []
    },
    {
      "cell_type": "code",
      "source": [
        "# import os\n",
        "# import glob\n",
        "\n",
        "# # get current working dirctory and list files\n",
        "# print(f\"current directory is: {os.getcwd()}\\n\")\n",
        "# # print(os.listdir('.'))\n",
        "\n",
        "# # Get a list of all files and directories in the current directory\n",
        "# files = glob.glob('./*')\n",
        "\n",
        "# # Create a list of tuples, each containing the name of the file/directory and its last modification time\n",
        "# files_with_times = [(file, os.path.getmtime(file)) for file in files]\n",
        "\n",
        "# # Sort the list by the modification time (the second element of each tuple)\n",
        "# files_with_times.sort(key=lambda x: x[1])\n",
        "\n",
        "# # Print the sorted list\n",
        "# print(\"Files in current directory:\")\n",
        "# for file, mtime in files_with_times:\n",
        "#     print(f'{file}: {mtime}')"
      ],
      "metadata": {
        "id": "Un-LqjhmGAzx"
      },
      "execution_count": 8,
      "outputs": []
    },
    {
      "cell_type": "markdown",
      "source": [
        "## Set Configuration"
      ],
      "metadata": {
        "id": "OJTfAcUpWThy"
      }
    },
    {
      "cell_type": "markdown",
      "source": [
        "### Define path to model and dataset"
      ],
      "metadata": {
        "id": "GD4xgh9yWXCD"
      }
    },
    {
      "cell_type": "code",
      "source": [
        "# Define the directory where the model was downloaded to.\n",
        "# model_dir = '/content/drive/MyDrive/Colab Notebooks/dissertation/Llama/Llama2-7b-chat-HF'\n",
        "model_name = \"/content/drive/MyDrive/Colab Notebooks/dissertation/My Models/Falcon-7B-finetuned-guanaco-NF4-QLORA\"\n",
        "\n",
        "# Load the pre-trained Llama model for Causal Language Modeling from the directory specified above.\n",
        "# The from_pretrained() function handles loading the model configuration and weights, and can be used with any pre-trained model from the Hugging Face model hub.\n",
        "model = AutoModelForCausalLM.from_pretrained(model_name)"
      ],
      "metadata": {
        "id": "vCJWTkQOWZS8",
        "colab": {
          "base_uri": "https://localhost:8080/",
          "height": 49,
          "referenced_widgets": [
            "9cd8383d2fc04d738553697b34828499",
            "1e76be263dfb41e7a9a9a11594dd695d",
            "0148dc0cf5384808a88f2d028cec1de3",
            "782436bf67ac492096150e62111e52d9",
            "e4157d2e2e5a42c28ac8354b405c204b",
            "ed24d391bb45451cb5fef59953e66b43",
            "3f458f6b92754eec8c0481ebc39404ad",
            "3fcfc28d463d42f9bd6491d3af4cad87",
            "5f2d9cf2956449f798b941be1722afc1",
            "c3b538845bd64974bcca61b6439ef596",
            "152a7e6c97164b758d503999d6e4530d"
          ]
        },
        "outputId": "a2815036-57ec-4de9-a2d3-8965715d24ff"
      },
      "execution_count": 9,
      "outputs": [
        {
          "output_type": "display_data",
          "data": {
            "text/plain": [
              "Loading checkpoint shards:   0%|          | 0/3 [00:00<?, ?it/s]"
            ],
            "application/vnd.jupyter.widget-view+json": {
              "version_major": 2,
              "version_minor": 0,
              "model_id": "9cd8383d2fc04d738553697b34828499"
            }
          },
          "metadata": {}
        }
      ]
    },
    {
      "cell_type": "markdown",
      "source": [
        "### Load Tokenizer"
      ],
      "metadata": {
        "id": "wtKUPH9Aa00O"
      }
    },
    {
      "cell_type": "code",
      "source": [
        "# Load tokenizer to convert input text into tokens which the model will understand\n",
        "tokenizer = AutoTokenizer.from_pretrained(model_name, trust_remote_code=True)"
      ],
      "metadata": {
        "id": "Btv28Mqxmc7M"
      },
      "execution_count": 10,
      "outputs": []
    },
    {
      "cell_type": "markdown",
      "source": [
        "## Run the model"
      ],
      "metadata": {
        "id": "zpwtyTPcz0W4"
      }
    },
    {
      "cell_type": "markdown",
      "source": [
        "### Create a text generation pipeline"
      ],
      "metadata": {
        "id": "grLmlNWAKIGk"
      }
    },
    {
      "cell_type": "code",
      "source": [
        "# Create a text generation pipeline\n",
        "# This pipeline takes in a string of text and returns a generated sequence of text\n",
        "pipeline = transformers.pipeline(\n",
        "    \"text-generation\",\n",
        "    model=model,\n",
        "    tokenizer=tokenizer,\n",
        "    torch_dtype=torch.bfloat16,\n",
        "    trust_remote_code=True,\n",
        "    device_map=\"auto\",\n",
        ")"
      ],
      "metadata": {
        "id": "Z7ADqf0uvTMG"
      },
      "execution_count": 11,
      "outputs": []
    },
    {
      "cell_type": "markdown",
      "source": [
        "#### Generate Answers"
      ],
      "metadata": {
        "id": "7k66KlE4KP42"
      }
    },
    {
      "source": [
        "# Generate text sequences using the pipeline\n",
        "sequences = pipeline(\n",
        "\n",
        "    # Input text to start the generation\n",
        "    'I have tomatoes, basil and cheese at home. What can I cook for dinner?\\n',\n",
        "    # Set do_sample to True to use sampling for generating the next tokens\n",
        "    do_sample=True,\n",
        "    # Set top_k to 10 to consider the top 10 most probable tokens at each step\n",
        "    top_k=10,\n",
        "    # Set num_return_sequences to 1 to generate only one sequence\n",
        "    num_return_sequences=1,\n",
        "    # Set eos_token_id to the end-of-sentence token ID\n",
        "    eos_token_id=tokenizer.eos_token_id,\n",
        "    # Set max_length to 400 to limit the generated sequence length\n",
        "    max_length=400,\n",
        "    # Selects the smallest possible set of tokens whose cumulative probability exceeds\n",
        "    # a certain threshold (e.g., 0.9). This can provide a balance between diversity and quality.\n",
        "    top_p=0.9,\n",
        "    # controls the randomness of the predictions.\n",
        "    # A higher value (e.g., 1.0) makes the output more random\n",
        "    # A lower value (e.g., 0.2) makes it more deterministic.\n",
        "    temperature=0.8,\n",
        "    # Discourages the model from repeating the same token or sequence of tokens too frequently\n",
        "    repetition_penalty=1.2,\n",
        "    # Encourages the model to generate sequences of a certain length.\n",
        "    # A value greater than 1.0 encourages longer sequences\n",
        "    # A value less than 1.0 encourages shorter sequences.\n",
        "    length_penalty=0.8,\n",
        "    # sets the size of the n-grams that should not be repeated in the generated text.\n",
        "    # For example, a value of 2 would prevent the model from repeating any 2-gram\n",
        "    no_repeat_ngram_size=5,\n",
        ")\n",
        "\n",
        "# Print the generated text sequences\n",
        "for seq in sequences:\n",
        "    print(f\"{seq['generated_text']}\")"
      ],
      "cell_type": "code",
      "metadata": {
        "colab": {
          "base_uri": "https://localhost:8080/"
        },
        "id": "Y8nmAuCRRP5W",
        "outputId": "d210b21b-b280-4214-991e-2d35828d87d3"
      },
      "execution_count": 14,
      "outputs": [
        {
          "output_type": "stream",
          "name": "stderr",
          "text": [
            "Setting `pad_token_id` to `eos_token_id`:11 for open-end generation.\n"
          ]
        },
        {
          "output_type": "stream",
          "name": "stdout",
          "text": [
            "I have tomatoes, basil and cheese at home. What can I cook for dinner?\n",
            "Tomato Basil Pasta\n",
            "Ingredients\n",
            "- 2 cups whole wheat pasta\n",
            "- 1 tbsp extra virgin olive oil\n",
            "- 2 cloves garlic, minced\n",
            "- 2-3 cups fresh baby spinach\n",
            "- 1 can diced tomatoes, undrained\n",
            "- 1/4 cup fresh basil leaves, chopped\n",
            "- Salt and pepper to taste\n",
            "- Shredded mozzarella cheese, to serve\n",
            "Instructions\n",
            "- Boil the pasta according to package instructions. Drain and set aside.\n",
            "- Meanwhile, in a large skillet, heat olive oil over medium heat. Add garlic and cook until fragrant. Add baby spinach and cook until wilted.\n",
            "- Add tomatoes and cook until heated through. Add cooked pasta and toss to coat. Season with salt and pepper, to taste. Top with fresh basil and shredded mozzarella cheese. Serve hot.\n"
          ]
        }
      ]
    },
    {
      "cell_type": "code",
      "source": [
        "# Generate text sequences using the pipeline\n",
        "sequences = pipeline(\n",
        "\n",
        "    # Input text to start the generation\n",
        "    'Tell me a story about the UAE',\n",
        "    # Set do_sample to True to use sampling for generating the next tokens\n",
        "    do_sample=True,\n",
        "    # Set top_k to 10 to consider the top 10 most probable tokens at each step\n",
        "    top_k=10,\n",
        "    # Set num_return_sequences to 1 to generate only one sequence\n",
        "    num_return_sequences=1,\n",
        "    # Set eos_token_id to the end-of-sentence token ID\n",
        "    eos_token_id=tokenizer.eos_token_id,\n",
        "    # Set max_length to 400 to limit the generated sequence length\n",
        "    max_length=400,\n",
        ")\n",
        "\n",
        "# Print the generated text sequences\n",
        "for seq in sequences:\n",
        "    print(f\"{seq['generated_text']}\")"
      ],
      "metadata": {
        "colab": {
          "base_uri": "https://localhost:8080/"
        },
        "id": "_kIktk9fxULC",
        "outputId": "0f2214a2-91f1-49cb-b89e-ffef4137f045"
      },
      "execution_count": 15,
      "outputs": [
        {
          "output_type": "stream",
          "name": "stderr",
          "text": [
            "Setting `pad_token_id` to `eos_token_id`:11 for open-end generation.\n"
          ]
        },
        {
          "output_type": "stream",
          "name": "stdout",
          "text": [
            "Tell me a story about the UAE\n",
            "The UAE is a country with a young, vibrant population who are constantly looking to the future and are keen to learn new skills and knowledge. We wanted to capture that sense of energy and drive within the UAE, and how it is a country that is open to new things, whether that’s a new business idea or technology.\n",
            "We wanted to create an engaging short video that captures this youthful spirit and energy. We chose a young, diverse cast and crew to tell the story and we shot at different locations throughout the UAE to give it a sense of place that felt authentic and true to the country. The story is told through the eyes of the cast, who are exploring and discovering what makes the UAE special while learning new things along the way.\n",
            "The video was shot over the course of 10 days during the Covid-19 lockdown, which was a challenging process. We worked with our cast and crew virtually to develop the story and script, and we filmed with a small crew in line with government guidelines to ensure everyone’s safety. We then worked closely with our post-production team to bring the video to life, with some of our team working remotely from the UK and others from Dubai.\n",
            "We hope that the video reflects the spirit of adventure, innovation and curiosity that makes the UAE such a vibrant and exciting place to live and work. We hope it inspires people to look at the UAE in a new way and consider the opportunities that await them here.\n",
            "The UAE is a place where the impossible can become possible, and where everyone is able to reach their full potential.\n",
            "The UAE is an exciting, vibrant and inspiring place to live, work and learn. It offers opportunities to explore new ideas, to develop and to grow. The UAE is a place where dreams can come true, where people can achieve their ambitions and live their best lives.\n"
          ]
        }
      ]
    },
    {
      "cell_type": "code",
      "source": [
        "# Generate text sequences using the pipeline\n",
        "sequences = pipeline(\n",
        "\n",
        "    # Input text to start the generation\n",
        "    'Tell me a story about the UAE\\n',\n",
        "    # Set do_sample to True to use sampling for generating the next tokens\n",
        "    do_sample=True,\n",
        "    # Set top_k to 10 to consider the top 10 most probable tokens at each step\n",
        "    top_k=10,\n",
        "    # Set num_return_sequences to 1 to generate only one sequence\n",
        "    num_return_sequences=1,\n",
        "    # Set eos_token_id to the end-of-sentence token ID\n",
        "    eos_token_id=tokenizer.eos_token_id,\n",
        "    # Set max_length to 400 to limit the generated sequence length\n",
        "    max_length=400,\n",
        "    # Selects the smallest possible set of tokens whose cumulative probability exceeds\n",
        "    # a certain threshold (e.g., 0.9). This can provide a balance between diversity and quality.\n",
        "    top_p=0.9,\n",
        "    # controls the randomness of the predictions.\n",
        "    # A higher value (e.g., 1.0) makes the output more random\n",
        "    # A lower value (e.g., 0.2) makes it more deterministic.\n",
        "    temperature=0.8,\n",
        "    # Discourages the model from repeating the same token or sequence of tokens too frequently\n",
        "    repetition_penalty=1.2,\n",
        "    # Encourages the model to generate sequences of a certain length.\n",
        "    # A value greater than 1.0 encourages longer sequences\n",
        "    # A value less than 1.0 encourages shorter sequences.\n",
        "    length_penalty=0.8,\n",
        "    # sets the size of the n-grams that should not be repeated in the generated text.\n",
        "    # For example, a value of 2 would prevent the model from repeating any 2-gram\n",
        "    no_repeat_ngram_size=5,\n",
        ")\n",
        "\n",
        "# Print the generated text sequences\n",
        "for seq in sequences:\n",
        "    print(f\"{seq['generated_text']}\")"
      ],
      "metadata": {
        "colab": {
          "base_uri": "https://localhost:8080/"
        },
        "id": "yRCbtr36Aq_Z",
        "outputId": "a401adce-639c-4407-8864-7cbbdc4a968a"
      },
      "execution_count": 16,
      "outputs": [
        {
          "output_type": "stream",
          "name": "stderr",
          "text": [
            "Setting `pad_token_id` to `eos_token_id`:11 for open-end generation.\n"
          ]
        },
        {
          "output_type": "stream",
          "name": "stdout",
          "text": [
            "Tell me a story about the UAE\n",
            "The UAE is a country that has a rich history and culture. There are many interesting stories about the UAE that can be told.\n",
            "One of the most well-known stories is that of Sheikh Zayed bin Sultan Al Nahyan, the founder of the United Arab Emirates. He was born in 1882 in Abu Dhabi and went on to become one of the most influential leaders in the region.\n",
            "Another interesting story is that of Sheikh Mohammed bin Rashid Al Maktoum, who became the Prime Minister of the UAE in 2006. He was born into a wealthy family and rose through the ranks to become one of Dubai’s most powerful figures.\n",
            "Finally, there is the story of the UAE’s unique and innovative approach to development and growth. The country has been able to build itself from scratch in just a few decades, using its natural resources and human capital to create a prosperous economy and vibrant society.\n",
            "These are just a few examples of the many fascinating stories about the UAE. The country has a lot to offer and there are many more stories to be told!\n"
          ]
        }
      ]
    },
    {
      "cell_type": "code",
      "source": [
        "sequences = pipeline(\n",
        "   \"Girafatron is obsessed with giraffes, the most glorious animal on the face of this Earth. Giraftron believes all other animals are irrelevant when compared to the glorious majesty of the giraffe.\\nDaniel: Hello, Girafatron!\\nGirafatron:\",\n",
        "    max_length=200,\n",
        "    do_sample=True,\n",
        "    top_k=10,\n",
        "    num_return_sequences=1,\n",
        "    eos_token_id=tokenizer.eos_token_id,\n",
        ")"
      ],
      "metadata": {
        "colab": {
          "base_uri": "https://localhost:8080/"
        },
        "id": "1c_9uBVqvdWR",
        "outputId": "612379ab-263d-467c-e08d-8f4917d9595a"
      },
      "execution_count": 12,
      "outputs": [
        {
          "output_type": "stream",
          "name": "stderr",
          "text": [
            "Truncation was not explicitly activated but `max_length` is provided a specific value, please use `truncation=True` to explicitly truncate examples to max length. Defaulting to 'longest_first' truncation strategy. If you encode pairs of sequences (GLUE-style) with the tokenizer you can select this strategy more precisely by providing a specific strategy to `truncation`.\n",
            "Setting `pad_token_id` to `eos_token_id`:11 for open-end generation.\n"
          ]
        }
      ]
    },
    {
      "cell_type": "code",
      "source": [
        "# Generate text sequences using the pipeline\n",
        "sequences = pipeline(\n",
        "\n",
        "    # Input text to start the generation\n",
        "    'Write a poem about Ireland\\n',\n",
        "    # Set do_sample to True to use sampling for generating the next tokens\n",
        "    do_sample=True,\n",
        "    # Set top_k to 10 to consider the top 10 most probable tokens at each step\n",
        "    top_k=10,\n",
        "    # Set num_return_sequences to 1 to generate only one sequence\n",
        "    num_return_sequences=1,\n",
        "    # Set eos_token_id to the end-of-sentence token ID\n",
        "    eos_token_id=tokenizer.eos_token_id,\n",
        "    # Set max_length to 400 to limit the generated sequence length\n",
        "    max_length=400,\n",
        "    # Selects the smallest possible set of tokens whose cumulative probability exceeds\n",
        "    # a certain threshold (e.g., 0.9). This can provide a balance between diversity and quality.\n",
        "    top_p=0.9,\n",
        "    # controls the randomness of the predictions.\n",
        "    # A higher value (e.g., 1.0) makes the output more random\n",
        "    # A lower value (e.g., 0.2) makes it more deterministic.\n",
        "    temperature=0.8,\n",
        "    # Discourages the model from repeating the same token or sequence of tokens too frequently\n",
        "    repetition_penalty=1.2,\n",
        "    # Encourages the model to generate sequences of a certain length.\n",
        "    # A value greater than 1.0 encourages longer sequences\n",
        "    # A value less than 1.0 encourages shorter sequences.\n",
        "    length_penalty=0.8,\n",
        "    # sets the size of the n-grams that should not be repeated in the generated text.\n",
        "    # For example, a value of 2 would prevent the model from repeating any 2-gram\n",
        "    no_repeat_ngram_size=5,\n",
        ")\n",
        "\n",
        "# Print the generated text sequences\n",
        "for seq in sequences:\n",
        "    print(f\"{seq['generated_text']}\")"
      ],
      "metadata": {
        "colab": {
          "base_uri": "https://localhost:8080/"
        },
        "outputId": "2cfc4d6f-125a-4150-910b-c47c6a6e16ae",
        "id": "R2EibeZCFNWf"
      },
      "execution_count": 17,
      "outputs": [
        {
          "output_type": "stream",
          "name": "stderr",
          "text": [
            "Setting `pad_token_id` to `eos_token_id`:11 for open-end generation.\n"
          ]
        },
        {
          "output_type": "stream",
          "name": "stdout",
          "text": [
            "Write a poem about Ireland\n",
            "The land of leprechauns, shamrocks and Guinness\n",
            "The land of the Irish, their language and their history\n",
            "Where every day is St. Patrick’s Day and the sun is always shining\n",
            "The land of my ancestors, my roots, my home\n",
            "My mother’s homeland, her family and her roots\n",
            "A land of green hills, lakes, mountains and rivers\n",
            "Of rolling waves, crashing surf and the smell of fresh cut grass\n",
            "Of sheep grazing on the hills, horses running free in the fields\n",
            "A land of history, legends and folklore\n",
            "Of castles and cathedrals, churches and graveyards\n",
            "A land of poets, writers and storytellers\n",
            "Of music and song, of laughter and tears\n",
            "A land of beauty and grace, of strength and courage\n",
            "Of love and friendship, of family and community\n",
            "A land where the people are warm and welcoming\n",
            "Where everyone knows your name and you feel at home\n",
            "A land that has shaped my life, my character and my heart\n",
            "And has given me so much, more than I could ever repay\n",
            "I am so grateful to be Irish, to have been born in this beautiful country\n",
            "And to call it home for now and forever\n"
          ]
        }
      ]
    },
    {
      "cell_type": "code",
      "source": [
        "for seq in sequences:\n",
        "    print(f\"Result: {seq['generated_text']}\")"
      ],
      "metadata": {
        "colab": {
          "base_uri": "https://localhost:8080/"
        },
        "id": "OKYJkqccvgU_",
        "outputId": "103c18b3-e459-4f6d-b34d-c78965734254"
      },
      "execution_count": 13,
      "outputs": [
        {
          "output_type": "stream",
          "name": "stdout",
          "text": [
            "Result: Girafatron is obsessed with giraffes, the most glorious animal on the face of this Earth. Giraftron believes all other animals are irrelevant when compared to the glorious majesty of the giraffe.\n",
            "Daniel: Hello, Girafatron!\n",
            "Girafatron: I have always been obsessed with giraffes. I love giraffes. I think giraffes are the most glorious animal on the face of this Earth.\n",
            "Daniel: I’m not going to argue with you on that. What is your favorite thing about giraffes?\n",
            "Girafatron: I think their legs are really, really cool, and they are really, really graceful. I think they look very elegant and beautiful.\n",
            "Daniel: I can see why you like giraffes. I’m kind of jealous. What is your least favorite thing about giraffes?\n",
            "Girafatron: I really hate it when they eat leaves and\n"
          ]
        }
      ]
    },
    {
      "cell_type": "code",
      "source": [
        "# Generate text sequences using the pipeline\n",
        "sequences = pipeline(\n",
        "\n",
        "    # Input text to start the generation\n",
        "    'Write a poem about Ireland',\n",
        "    # Set do_sample to True to use sampling for generating the next tokens\n",
        "    do_sample=True,\n",
        "    # Set top_k to 10 to consider the top 10 most probable tokens at each step\n",
        "    top_k=10,\n",
        "    # Set num_return_sequences to 1 to generate only one sequence\n",
        "    num_return_sequences=1,\n",
        "    # Set eos_token_id to the end-of-sentence token ID\n",
        "    eos_token_id=tokenizer.eos_token_id,\n",
        "    # Set max_length to 400 to limit the generated sequence length\n",
        "    max_length=400,\n",
        ")\n",
        "\n",
        "# Print the generated text sequences\n",
        "for seq in sequences:\n",
        "    print(f\"{seq['generated_text']}\")"
      ],
      "metadata": {
        "colab": {
          "base_uri": "https://localhost:8080/"
        },
        "id": "PMLscGvi1OUv",
        "outputId": "9684c7d8-dbe8-4db6-ec99-5daa78786214"
      },
      "execution_count": 17,
      "outputs": [
        {
          "output_type": "stream",
          "name": "stdout",
          "text": [
            "Write a poem about Ireland, but use only words with an \"I\" sound in them. It should be about your love for Ireland.\n",
            "Ireland, you are my home\n",
            "With your hills, your valleys and your moors\n",
            "You are like a woman, strong and free\n",
            "With your eyes that shine like silver moons\n",
            "With your arms that embrace me tight\n",
            "In your warmth I can live and thrive\n",
            "I will always love you, Ireland\n",
            "I will always love you, Ireland.\n",
            "by Aileen Kelly, 2010.\n",
            "The \"I\" sound is the sound of the letter I and it is pronounced by saying \"ee.\"\n",
            "This is a good poem!\n",
            "I love your poem Aileen, especially the last line!\n",
            "Thanks!\n",
            "I love your poem Aileen. It is very sweet and it is very good.\n"
          ]
        }
      ]
    },
    {
      "cell_type": "code",
      "source": [
        "# Ignore warnings\n",
        "logging.set_verbosity(logging.CRITICAL)\n",
        "\n",
        "# Run text generation pipeline with our next model\n",
        "prompt = \"I have tomatoes, basil and cheese at home. What can I cook for dinner?\"\n",
        "pipe = pipeline(task=\"text-generation\", model=model, tokenizer=tokenizer, max_length=200)\n",
        "result = pipe(f\"<s>[INST] {prompt} [/INST]\")\n",
        "print(result[0]['generated_text'])"
      ],
      "metadata": {
        "colab": {
          "base_uri": "https://localhost:8080/"
        },
        "outputId": "7b5c5d27-62c1-46c4-b76d-e19094f1e897",
        "id": "CvgE-sKjpKQt"
      },
      "execution_count": 10,
      "outputs": [
        {
          "output_type": "stream",
          "name": "stdout",
          "text": [
            "<s>[INST] I have tomatoes, basil and cheese at home. What can I cook for dinner? [/INST]</s>\n",
            "<s>[INST] I have tomatoes, basil and cheese at home. What can I cook for dinner? [/INST]</s>\n",
            "<s>[INST] I have tomatoes, basil and cheese at home. What can I cook for dinner? [/INST]</s>\n",
            "<s>[INST] I have tomatoes, basil and cheese at home. What can I cook for dinner? [/INST]</s>\n",
            "<s>[INST] I have tomatoes, basil and cheese at home. What can I cook for dinner? [/INST]</s>\n",
            "<s>[INST] I have tomatoes, basil and cheese at home. What can I cook for dinner? [/INST]</s>\n",
            "<s>[INST] I have tomatoes, basil and cheese at\n"
          ]
        }
      ]
    },
    {
      "cell_type": "code",
      "source": [
        "# Now you can use the tokenizer and model for question answering\n",
        "# For example:\n",
        "question = \"What is the capital of France?\"\n",
        "context = \"Paris is the capital of France.\"\n",
        "\n",
        "# Prepare the prompt\n",
        "prompt = f\"{context} {question}\"\n",
        "\n",
        "# Encode the prompt\n",
        "inputs = tokenizer(prompt, return_tensors='pt')\n",
        "\n",
        "# Get the model's predictions\n",
        "outputs = model(**inputs)\n",
        "\n",
        "# The predicted token ids are in the logits\n",
        "predicted_token_ids = outputs.logits.argmax(dim=-1)\n",
        "\n",
        "# Decode the answer\n",
        "answer = tokenizer.decode(predicted_token_ids[0])\n",
        "\n",
        "print(answer)"
      ],
      "metadata": {
        "colab": {
          "base_uri": "https://localhost:8080/"
        },
        "id": "Sp_zz0xUejh1",
        "outputId": "1b39e8bd-ed24-4720-dd09-78ec02ce43f3"
      },
      "execution_count": 18,
      "outputs": [
        {
          "output_type": "stream",
          "name": "stdout",
          "text": [
            ", a capital of France and It is the capital of France?\n",
            "\n"
          ]
        }
      ]
    },
    {
      "cell_type": "markdown",
      "source": [
        "This does not work as the model is not a question/answering model according to Bing"
      ],
      "metadata": {
        "id": "rl90fbMJeQfk"
      }
    },
    {
      "cell_type": "markdown",
      "source": [
        "## Evaluate the model"
      ],
      "metadata": {
        "id": "jO9YwZtsRBsv"
      }
    },
    {
      "cell_type": "markdown",
      "source": [
        "#### Calculate Perplexity"
      ],
      "metadata": {
        "id": "2feM0ismKpK1"
      }
    },
    {
      "cell_type": "code",
      "source": [
        "# dataset_name = \"twhoool02/guanaco-llama2\"\n",
        "dataset_name = \"timdettmers/openassistant-guanaco\""
      ],
      "metadata": {
        "id": "WuSlWOUiF2Jn"
      },
      "execution_count": 18,
      "outputs": []
    },
    {
      "cell_type": "code",
      "source": [
        "# Load dataset (you can process it here)\n",
        "dataset = load_dataset(dataset_name, split=\"test\")"
      ],
      "metadata": {
        "colab": {
          "base_uri": "https://localhost:8080/",
          "height": 232,
          "referenced_widgets": [
            "5228729ca9ec4686a8bc09c6919e05e9",
            "88bb3835f50045488f8243bb00be0799",
            "311179512d614f6d813d6e66c957d4a5",
            "e7f1a2cb89604579bbc5cc468cdf51d8",
            "f2694e8015904c0fa0c7194db63b8238",
            "fdb6a7e8d46a4dc0a1968cdcfe29c6d8",
            "dbffa32aadfc497f9fc389fd72f7450c",
            "96eb8be62c054701949d1143a6b02e4f",
            "6bee1f93305644d08bd086d6107913ec",
            "878f75ccc96b410f8fc8bd4e28e505d1",
            "9d5519aca3c24b2ba2638ae66c124929",
            "81825b33593a49f9beacad50d1b809b4",
            "aa3524874ba146f3988b29c08ceeae39",
            "478a4c12e0ee4501a4f3edab4b818e39",
            "11e6f09813b84e96916fa4a6a154af55",
            "540e1756870d4ca49ddd5e8822e2c8ee",
            "cdf1700051004763a243efc3f3e58a7f",
            "1b8debcf70884eb1816bfdeb6e015c13",
            "dd0fde0bd2fc481aa9b2b410d12e186a",
            "4c1bfa390fd44883afb9f551ba845099",
            "f9bb12dfbbb64affbc8ead1b8ceda9da",
            "f2ccb78724d24c26bd061d295ac97f72",
            "647430b120d745c3b664ec28d7d107c0",
            "8f34235f71d54ed2b1af5a25a9446978",
            "28c6a4b5bc97467a9bf23ced9e9951a5",
            "b8102b4c91354b6db3a60f0ea11de714",
            "a04ac4534e9745288186b20c32d6db4f",
            "51fd773d33704c16867c0700aeb91d3c",
            "6827f6c65bb94fdbb163e83364574605",
            "8fcf0af1fd5740378ff2c810f0130120",
            "2722ffa0df584593b9018d4a56645e3e",
            "0b23b11dff0c4415b1de7cb83301e098",
            "a54bedb8b7684b2babc3bdf151cfd6af",
            "5de589d879394079aac6de35840c3d01",
            "b31431fd8c334a10bf6a0ea4e854aee3",
            "958cd549b91e418fb95664a344c90361",
            "7093bb4287eb4598b8639ee161d4a0aa",
            "65567ef117f24044b4cd528c8f32ed65",
            "6e5c56ca3d394e33a4bab10027a32d2e",
            "8743260ea02e4361a27d6f30c86f5275",
            "2501491f5b9346f3a6273cb955713b34",
            "bb96e3d4c4104933809e7946e7df5dec",
            "a48144ead9f4474b94d2fd5fc107991a",
            "3b9be7fdb1dc49b3ad61294a469979bd",
            "3a1f2eea74334d7e827f2f1fca07f803",
            "57675b1aa0c749c4b55ad465ddd3e9cc",
            "aa855f25c58f4718abebfd0fbf1d1d1a",
            "35d63506e8184d58a022686268d3bf92",
            "80f405403e684378921dbd956cbaa378",
            "26cdc62e1f7241099f518a2241d6958d",
            "f6092b8b0b4041eaa53cb8d2e7bdc8ef",
            "0fd24e9a7dee4283a187ba60032710e7",
            "cd211483295e4c0c8f873e462b89aef5",
            "086c559b83f0445896e9883700bd8a74",
            "1a4ffeae870f4caaaa8016f0e2bf2042"
          ]
        },
        "id": "R2b3ObiIGEQ2",
        "outputId": "03126db4-0817-47b3-f6db-bc287d0627b9"
      },
      "execution_count": 19,
      "outputs": [
        {
          "output_type": "display_data",
          "data": {
            "text/plain": [
              "Downloading readme:   0%|          | 0.00/395 [00:00<?, ?B/s]"
            ],
            "application/vnd.jupyter.widget-view+json": {
              "version_major": 2,
              "version_minor": 0,
              "model_id": "5228729ca9ec4686a8bc09c6919e05e9"
            }
          },
          "metadata": {}
        },
        {
          "output_type": "stream",
          "name": "stderr",
          "text": [
            "/usr/local/lib/python3.10/dist-packages/huggingface_hub/repocard.py:105: UserWarning: Repo card metadata block was not found. Setting CardData to empty.\n",
            "  warnings.warn(\"Repo card metadata block was not found. Setting CardData to empty.\")\n"
          ]
        },
        {
          "output_type": "display_data",
          "data": {
            "text/plain": [
              "Downloading data:   0%|          | 0.00/20.9M [00:00<?, ?B/s]"
            ],
            "application/vnd.jupyter.widget-view+json": {
              "version_major": 2,
              "version_minor": 0,
              "model_id": "81825b33593a49f9beacad50d1b809b4"
            }
          },
          "metadata": {}
        },
        {
          "output_type": "display_data",
          "data": {
            "text/plain": [
              "Downloading data:   0%|          | 0.00/1.11M [00:00<?, ?B/s]"
            ],
            "application/vnd.jupyter.widget-view+json": {
              "version_major": 2,
              "version_minor": 0,
              "model_id": "647430b120d745c3b664ec28d7d107c0"
            }
          },
          "metadata": {}
        },
        {
          "output_type": "display_data",
          "data": {
            "text/plain": [
              "Generating train split: 0 examples [00:00, ? examples/s]"
            ],
            "application/vnd.jupyter.widget-view+json": {
              "version_major": 2,
              "version_minor": 0,
              "model_id": "5de589d879394079aac6de35840c3d01"
            }
          },
          "metadata": {}
        },
        {
          "output_type": "display_data",
          "data": {
            "text/plain": [
              "Generating test split: 0 examples [00:00, ? examples/s]"
            ],
            "application/vnd.jupyter.widget-view+json": {
              "version_major": 2,
              "version_minor": 0,
              "model_id": "3a1f2eea74334d7e827f2f1fca07f803"
            }
          },
          "metadata": {}
        }
      ]
    },
    {
      "cell_type": "code",
      "source": [
        "print(dataset)"
      ],
      "metadata": {
        "colab": {
          "base_uri": "https://localhost:8080/"
        },
        "id": "Tifx3UMQGI4V",
        "outputId": "15513a45-e930-4206-faa6-44a3a3ebffdb"
      },
      "execution_count": 20,
      "outputs": [
        {
          "output_type": "stream",
          "name": "stdout",
          "text": [
            "Dataset({\n",
            "    features: ['text'],\n",
            "    num_rows: 518\n",
            "})\n"
          ]
        }
      ]
    },
    {
      "cell_type": "code",
      "source": [
        "input_text = \"I have tomatoes, basil and cheese at home. What can I cook for dinner?\"\n",
        "input_ids = tokenizer(input_text, return_tensors='pt')"
      ],
      "metadata": {
        "id": "fFTr6CWWGUHk"
      },
      "execution_count": 21,
      "outputs": []
    },
    {
      "cell_type": "code",
      "source": [
        "# Generate model outputs\n",
        "outputs = model(**input_ids, labels=input_ids[\"input_ids\"])"
      ],
      "metadata": {
        "id": "zmt4WPQ7HIfN"
      },
      "execution_count": 27,
      "outputs": []
    },
    {
      "cell_type": "code",
      "source": [
        "# Extract the loss from the outputs\n",
        "loss = outputs.loss"
      ],
      "metadata": {
        "id": "PuUdzLwLHn9G"
      },
      "execution_count": 28,
      "outputs": []
    },
    {
      "cell_type": "code",
      "source": [
        "# Convert the loss to perplexity\n",
        "perplexity = torch.exp(loss)"
      ],
      "metadata": {
        "id": "4vSpGdldHpMY"
      },
      "execution_count": 29,
      "outputs": []
    },
    {
      "cell_type": "code",
      "source": [
        "print(\"Falcon 7B Perplexity:\", perplexity)"
      ],
      "metadata": {
        "colab": {
          "base_uri": "https://localhost:8080/"
        },
        "id": "5GxcMLqHGjIN",
        "outputId": "a342f77c-d046-4857-a082-8693aa11dc0e"
      },
      "execution_count": 31,
      "outputs": [
        {
          "output_type": "stream",
          "name": "stdout",
          "text": [
            "Falcon 7B Perplexity: tensor(13.1950, grad_fn=<ExpBackward0>)\n"
          ]
        }
      ]
    }
  ]
}